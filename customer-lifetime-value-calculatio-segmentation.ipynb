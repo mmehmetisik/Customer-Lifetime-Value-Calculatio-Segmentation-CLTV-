{
 "cells": [
  {
   "cell_type": "markdown",
   "id": "7556a655",
   "metadata": {
    "papermill": {
     "duration": 0.010266,
     "end_time": "2023-06-09T21:47:32.752232",
     "exception": false,
     "start_time": "2023-06-09T21:47:32.741966",
     "status": "completed"
    },
    "tags": []
   },
   "source": [
    "# CUSTOMER LIFETIME VALUE\n",
    "- It is the monetary value that a customer brings to a company over the course of a relationship with that company. If we can determine the value that our customers can provide us in the future, we can organize our relationships with our customers and as a company, we can exhibit a more value-added approach in the customer-oriented medium and long term. Calculating this value will also play an important role in determining the budgets to be allocated in the field of marketing activities. If we know this value CLTV, if we know the current customer value, if we calculate the cost to be spent to gain new customers, we can compare the cost required to gain new customers with the existing ones and we can take a healthier approach."
   ]
  },
  {
   "cell_type": "markdown",
   "id": "08678634",
   "metadata": {
    "papermill": {
     "duration": 0.009284,
     "end_time": "2023-06-09T21:47:32.771231",
     "exception": false,
     "start_time": "2023-06-09T21:47:32.761947",
     "status": "completed"
    },
    "tags": []
   },
   "source": [
    "# Customer Lifetime Value Calculation\n",
    "- Since this calculated value does not have a time projection aspect, it does not allow us to make a forward-looking prediction. However, it will be a very valuable study in terms of determining the values of existing customers."
   ]
  },
  {
   "cell_type": "markdown",
   "id": "10abbdda",
   "metadata": {
    "papermill": {
     "duration": 0.009491,
     "end_time": "2023-06-09T21:47:32.790420",
     "exception": false,
     "start_time": "2023-06-09T21:47:32.780929",
     "status": "completed"
    },
    "tags": []
   },
   "source": [
    "# Road Map\n",
    "- **1. Data Preparation**\n",
    "- **2. Average Order Value (average_order_value = total_price / total_transaction)**\n",
    "- **3. Purchase Frequency (total_transaction / total_number_of_customers)**\n",
    "- **4. Repeat Rate & Churn Rate (number of customers making more than one purchase / all customers)**\n",
    "- **5. Profit Margin (profit_margin = total_price * 0.10)**\n",
    "- **6. Customer Value (customer_value = average_order_value * purchase_frequency)**\n",
    "- **7. Customer Lifetime Value (CLTV = (customer_value / churn_rate) x profit_margin)**\n",
    "- **8. Creation of Segments**"
   ]
  },
  {
   "cell_type": "markdown",
   "id": "86087623",
   "metadata": {
    "papermill": {
     "duration": 0.009697,
     "end_time": "2023-06-09T21:47:32.810004",
     "exception": false,
     "start_time": "2023-06-09T21:47:32.800307",
     "status": "completed"
    },
    "tags": []
   },
   "source": [
    "# Business Problem\n",
    "- Calculating Customer Life Time Value values for each customer, then segmenting customers according to these customer life time values."
   ]
  },
  {
   "cell_type": "markdown",
   "id": "4fc78280",
   "metadata": {
    "papermill": {
     "duration": 0.009492,
     "end_time": "2023-06-09T21:47:32.829340",
     "exception": false,
     "start_time": "2023-06-09T21:47:32.819848",
     "status": "completed"
    },
    "tags": []
   },
   "source": [
    "# Data Story\n",
    "\n",
    "- The dataset, Online Retail II, contains the sales of a UK-based online retail store between 01/12/2009 and 09/12/2011.\n",
    "\n",
    "- **Variables**\n",
    "- **InvoiceNo:** Invoice number. Unique number for each transaction, i.e. invoice. Canceled transaction if it starts with C.\n",
    "- **StockCode:** Product code. Unique number for each product.\n",
    "- **Description:** Product name\n",
    "- **Quantity:** Number of products. This refers to the number of products sold from the invoices.\n",
    "- **InvoiceDate:** Invoice date and time.\n",
    "- **UnitPrice:** Product price (in pounds sterling)\n",
    "- **CustomerID:** Unique customer number\n",
    "- **Country:** Country name The country where the customer lives."
   ]
  },
  {
   "cell_type": "code",
   "execution_count": 1,
   "id": "a7b99383",
   "metadata": {
    "execution": {
     "iopub.execute_input": "2023-06-09T21:47:32.850792Z",
     "iopub.status.busy": "2023-06-09T21:47:32.850178Z",
     "iopub.status.idle": "2023-06-09T21:47:34.737643Z",
     "shell.execute_reply": "2023-06-09T21:47:34.736622Z"
    },
    "papermill": {
     "duration": 1.901089,
     "end_time": "2023-06-09T21:47:34.740231",
     "exception": false,
     "start_time": "2023-06-09T21:47:32.839142",
     "status": "completed"
    },
    "tags": []
   },
   "outputs": [],
   "source": [
    "# import Required Libraries\n",
    "import pandas as pd\n",
    "import numpy as np\n",
    "import seaborn as sns\n",
    "import datetime as dt\n",
    "import matplotlib.pyplot as plt\n",
    "import plotly.express as px\n",
    "import warnings\n",
    "\n",
    "warnings.simplefilter(action=\"ignore\")"
   ]
  },
  {
   "cell_type": "code",
   "execution_count": 2,
   "id": "1a11cc4a",
   "metadata": {
    "execution": {
     "iopub.execute_input": "2023-06-09T21:47:34.762214Z",
     "iopub.status.busy": "2023-06-09T21:47:34.761872Z",
     "iopub.status.idle": "2023-06-09T21:47:34.766851Z",
     "shell.execute_reply": "2023-06-09T21:47:34.765844Z"
    },
    "papermill": {
     "duration": 0.017978,
     "end_time": "2023-06-09T21:47:34.768545",
     "exception": false,
     "start_time": "2023-06-09T21:47:34.750567",
     "status": "completed"
    },
    "tags": []
   },
   "outputs": [],
   "source": [
    "# Adjusting Row Column Settings\n",
    "pd.set_option(\"display.max_rows\", None)\n",
    "pd.set_option(\"display.max_columns\", None)\n",
    "pd.set_option(\"display.float_format\", lambda x: '%.2f' % x)"
   ]
  },
  {
   "cell_type": "code",
   "execution_count": 3,
   "id": "be1197a8",
   "metadata": {
    "execution": {
     "iopub.execute_input": "2023-06-09T21:47:34.790449Z",
     "iopub.status.busy": "2023-06-09T21:47:34.790089Z",
     "iopub.status.idle": "2023-06-09T21:49:31.854140Z",
     "shell.execute_reply": "2023-06-09T21:49:31.853122Z"
    },
    "papermill": {
     "duration": 117.077806,
     "end_time": "2023-06-09T21:49:31.856528",
     "exception": false,
     "start_time": "2023-06-09T21:47:34.778722",
     "status": "completed"
    },
    "tags": []
   },
   "outputs": [],
   "source": [
    "# Loading the Data Set\n",
    "df1 = pd.read_excel('/kaggle/input/uci-online-retail-ii-data-set/online_retail_II.xlsx', sheet_name='Year 2009-2010')\n",
    "df2 = pd.read_excel('/kaggle/input/uci-online-retail-ii-data-set/online_retail_II.xlsx', sheet_name='Year 2010-2011')"
   ]
  },
  {
   "cell_type": "code",
   "execution_count": 4,
   "id": "ee3c3d88",
   "metadata": {
    "execution": {
     "iopub.execute_input": "2023-06-09T21:49:31.878944Z",
     "iopub.status.busy": "2023-06-09T21:49:31.878348Z",
     "iopub.status.idle": "2023-06-09T21:49:31.968659Z",
     "shell.execute_reply": "2023-06-09T21:49:31.967457Z"
    },
    "papermill": {
     "duration": 0.104226,
     "end_time": "2023-06-09T21:49:31.971009",
     "exception": false,
     "start_time": "2023-06-09T21:49:31.866783",
     "status": "completed"
    },
    "tags": []
   },
   "outputs": [],
   "source": [
    "df = pd.concat([df1, df2], ignore_index=True)"
   ]
  },
  {
   "cell_type": "code",
   "execution_count": 5,
   "id": "41925d97",
   "metadata": {
    "execution": {
     "iopub.execute_input": "2023-06-09T21:49:31.992968Z",
     "iopub.status.busy": "2023-06-09T21:49:31.992630Z",
     "iopub.status.idle": "2023-06-09T21:49:32.136491Z",
     "shell.execute_reply": "2023-06-09T21:49:32.135733Z"
    },
    "papermill": {
     "duration": 0.157056,
     "end_time": "2023-06-09T21:49:32.138391",
     "exception": false,
     "start_time": "2023-06-09T21:49:31.981335",
     "status": "completed"
    },
    "tags": []
   },
   "outputs": [
    {
     "data": {
      "text/html": [
       "<div>\n",
       "<style scoped>\n",
       "    .dataframe tbody tr th:only-of-type {\n",
       "        vertical-align: middle;\n",
       "    }\n",
       "\n",
       "    .dataframe tbody tr th {\n",
       "        vertical-align: top;\n",
       "    }\n",
       "\n",
       "    .dataframe thead th {\n",
       "        text-align: right;\n",
       "    }\n",
       "</style>\n",
       "<table border=\"1\" class=\"dataframe\">\n",
       "  <thead>\n",
       "    <tr style=\"text-align: right;\">\n",
       "      <th></th>\n",
       "      <th>Invoice</th>\n",
       "      <th>StockCode</th>\n",
       "      <th>Description</th>\n",
       "      <th>Quantity</th>\n",
       "      <th>InvoiceDate</th>\n",
       "      <th>Price</th>\n",
       "      <th>Customer ID</th>\n",
       "      <th>Country</th>\n",
       "    </tr>\n",
       "  </thead>\n",
       "  <tbody>\n",
       "    <tr>\n",
       "      <th>0</th>\n",
       "      <td>489434</td>\n",
       "      <td>85048</td>\n",
       "      <td>15CM CHRISTMAS GLASS BALL 20 LIGHTS</td>\n",
       "      <td>12</td>\n",
       "      <td>2009-12-01 07:45:00</td>\n",
       "      <td>6.95</td>\n",
       "      <td>13085.00</td>\n",
       "      <td>United Kingdom</td>\n",
       "    </tr>\n",
       "    <tr>\n",
       "      <th>1</th>\n",
       "      <td>489434</td>\n",
       "      <td>79323P</td>\n",
       "      <td>PINK CHERRY LIGHTS</td>\n",
       "      <td>12</td>\n",
       "      <td>2009-12-01 07:45:00</td>\n",
       "      <td>6.75</td>\n",
       "      <td>13085.00</td>\n",
       "      <td>United Kingdom</td>\n",
       "    </tr>\n",
       "    <tr>\n",
       "      <th>2</th>\n",
       "      <td>489434</td>\n",
       "      <td>79323W</td>\n",
       "      <td>WHITE CHERRY LIGHTS</td>\n",
       "      <td>12</td>\n",
       "      <td>2009-12-01 07:45:00</td>\n",
       "      <td>6.75</td>\n",
       "      <td>13085.00</td>\n",
       "      <td>United Kingdom</td>\n",
       "    </tr>\n",
       "    <tr>\n",
       "      <th>3</th>\n",
       "      <td>489434</td>\n",
       "      <td>22041</td>\n",
       "      <td>RECORD FRAME 7\" SINGLE SIZE</td>\n",
       "      <td>48</td>\n",
       "      <td>2009-12-01 07:45:00</td>\n",
       "      <td>2.10</td>\n",
       "      <td>13085.00</td>\n",
       "      <td>United Kingdom</td>\n",
       "    </tr>\n",
       "    <tr>\n",
       "      <th>4</th>\n",
       "      <td>489434</td>\n",
       "      <td>21232</td>\n",
       "      <td>STRAWBERRY CERAMIC TRINKET BOX</td>\n",
       "      <td>24</td>\n",
       "      <td>2009-12-01 07:45:00</td>\n",
       "      <td>1.25</td>\n",
       "      <td>13085.00</td>\n",
       "      <td>United Kingdom</td>\n",
       "    </tr>\n",
       "  </tbody>\n",
       "</table>\n",
       "</div>"
      ],
      "text/plain": [
       "  Invoice StockCode                          Description  Quantity  \\\n",
       "0  489434     85048  15CM CHRISTMAS GLASS BALL 20 LIGHTS        12   \n",
       "1  489434    79323P                   PINK CHERRY LIGHTS        12   \n",
       "2  489434    79323W                  WHITE CHERRY LIGHTS        12   \n",
       "3  489434     22041         RECORD FRAME 7\" SINGLE SIZE         48   \n",
       "4  489434     21232       STRAWBERRY CERAMIC TRINKET BOX        24   \n",
       "\n",
       "          InvoiceDate  Price  Customer ID         Country  \n",
       "0 2009-12-01 07:45:00   6.95     13085.00  United Kingdom  \n",
       "1 2009-12-01 07:45:00   6.75     13085.00  United Kingdom  \n",
       "2 2009-12-01 07:45:00   6.75     13085.00  United Kingdom  \n",
       "3 2009-12-01 07:45:00   2.10     13085.00  United Kingdom  \n",
       "4 2009-12-01 07:45:00   1.25     13085.00  United Kingdom  "
      ]
     },
     "execution_count": 5,
     "metadata": {},
     "output_type": "execute_result"
    }
   ],
   "source": [
    "df.head()"
   ]
  },
  {
   "cell_type": "code",
   "execution_count": 6,
   "id": "b6635833",
   "metadata": {
    "execution": {
     "iopub.execute_input": "2023-06-09T21:49:32.160928Z",
     "iopub.status.busy": "2023-06-09T21:49:32.160332Z",
     "iopub.status.idle": "2023-06-09T21:49:32.838261Z",
     "shell.execute_reply": "2023-06-09T21:49:32.836920Z"
    },
    "papermill": {
     "duration": 0.691647,
     "end_time": "2023-06-09T21:49:32.840350",
     "exception": false,
     "start_time": "2023-06-09T21:49:32.148703",
     "status": "completed"
    },
    "tags": []
   },
   "outputs": [
    {
     "name": "stdout",
     "output_type": "stream",
     "text": [
      "##################### Shape #####################\n",
      "(1067371, 8)\n",
      "##################### Types #####################\n",
      "Invoice                object\n",
      "StockCode              object\n",
      "Description            object\n",
      "Quantity                int64\n",
      "InvoiceDate    datetime64[ns]\n",
      "Price                 float64\n",
      "Customer ID           float64\n",
      "Country                object\n",
      "dtype: object\n",
      "##################### Head #####################\n",
      "  Invoice StockCode                          Description  Quantity  \\\n",
      "0  489434     85048  15CM CHRISTMAS GLASS BALL 20 LIGHTS        12   \n",
      "1  489434    79323P                   PINK CHERRY LIGHTS        12   \n",
      "2  489434    79323W                  WHITE CHERRY LIGHTS        12   \n",
      "3  489434     22041         RECORD FRAME 7\" SINGLE SIZE         48   \n",
      "4  489434     21232       STRAWBERRY CERAMIC TRINKET BOX        24   \n",
      "\n",
      "          InvoiceDate  Price  Customer ID         Country  \n",
      "0 2009-12-01 07:45:00   6.95     13085.00  United Kingdom  \n",
      "1 2009-12-01 07:45:00   6.75     13085.00  United Kingdom  \n",
      "2 2009-12-01 07:45:00   6.75     13085.00  United Kingdom  \n",
      "3 2009-12-01 07:45:00   2.10     13085.00  United Kingdom  \n",
      "4 2009-12-01 07:45:00   1.25     13085.00  United Kingdom  \n",
      "##################### Tail #####################\n",
      "        Invoice StockCode                      Description  Quantity  \\\n",
      "1067366  581587     22899     CHILDREN'S APRON DOLLY GIRL          6   \n",
      "1067367  581587     23254    CHILDRENS CUTLERY DOLLY GIRL          4   \n",
      "1067368  581587     23255  CHILDRENS CUTLERY CIRCUS PARADE         4   \n",
      "1067369  581587     22138    BAKING SET 9 PIECE RETROSPOT          3   \n",
      "1067370  581587      POST                          POSTAGE         1   \n",
      "\n",
      "                InvoiceDate  Price  Customer ID Country  \n",
      "1067366 2011-12-09 12:50:00   2.10     12680.00  France  \n",
      "1067367 2011-12-09 12:50:00   4.15     12680.00  France  \n",
      "1067368 2011-12-09 12:50:00   4.15     12680.00  France  \n",
      "1067369 2011-12-09 12:50:00   4.95     12680.00  France  \n",
      "1067370 2011-12-09 12:50:00  18.00     12680.00  France  \n",
      "##################### NA #####################\n",
      "Invoice             0\n",
      "StockCode           0\n",
      "Description      4382\n",
      "Quantity            0\n",
      "InvoiceDate         0\n",
      "Price               0\n",
      "Customer ID    243007\n",
      "Country             0\n",
      "dtype: int64\n",
      "##################### Quantiles #####################\n",
      "                 count     mean     std       min        0%       5%      50%  \\\n",
      "Quantity    1067371.00     9.94  172.71 -80995.00 -80995.00     1.00     3.00   \n",
      "Price       1067371.00     4.65  123.55 -53594.36 -53594.36     0.42     2.10   \n",
      "Customer ID  824364.00 15324.64 1697.46  12346.00  12346.00 12681.00 15255.00   \n",
      "\n",
      "                 95%      99%     100%      max  \n",
      "Quantity       30.00   100.00 80995.00 80995.00  \n",
      "Price           9.95    18.00 38970.00 38970.00  \n",
      "Customer ID 17911.00 18207.00 18287.00 18287.00  \n"
     ]
    }
   ],
   "source": [
    "# Preliminary examination of the data set\n",
    "def check_df(dataframe, head=5):\n",
    "    print('##################### Shape #####################')\n",
    "    print(dataframe.shape)\n",
    "    print('##################### Types #####################')\n",
    "    print(dataframe.dtypes)\n",
    "    print('##################### Head #####################')\n",
    "    print(dataframe.head(head))\n",
    "    print('##################### Tail #####################')\n",
    "    print(dataframe.tail(head))\n",
    "    print('##################### NA #####################')\n",
    "    print(dataframe.isnull().sum())\n",
    "    print('##################### Quantiles #####################')\n",
    "    print(dataframe.describe([0, 0.05, 0.50, 0.95, 0.99, 1]).T)\n",
    "\n",
    "check_df(df)"
   ]
  },
  {
   "cell_type": "code",
   "execution_count": 7,
   "id": "6f31a3f5",
   "metadata": {
    "execution": {
     "iopub.execute_input": "2023-06-09T21:49:32.862945Z",
     "iopub.status.busy": "2023-06-09T21:49:32.862616Z",
     "iopub.status.idle": "2023-06-09T21:49:33.287557Z",
     "shell.execute_reply": "2023-06-09T21:49:33.286666Z"
    },
    "papermill": {
     "duration": 0.438678,
     "end_time": "2023-06-09T21:49:33.289781",
     "exception": false,
     "start_time": "2023-06-09T21:49:32.851103",
     "status": "completed"
    },
    "tags": []
   },
   "outputs": [
    {
     "name": "stdout",
     "output_type": "stream",
     "text": [
      "Observations: 1067371\n",
      "Variables: 8\n",
      "cat_cols: 0\n",
      "num_cols: 4\n",
      "cat_but_car: 4\n",
      "num_but_cat: 0\n"
     ]
    }
   ],
   "source": [
    "# Examination of numerical and categorical variables\n",
    "\n",
    "def grab_col_names(dataframe, cat_th=10, car_th=20):\n",
    "    \"\"\"\n",
    "    Returns the names of categorical, numeric and categorical but cardinal variables in the data set.\n",
    "    Note Categorical variables include categorical variables with numeric appearance.\n",
    "    Parameters\n",
    "    ------\n",
    "         dataframe: dataframe\n",
    "                Dataframe to get variable names\n",
    "        cat_th: int, optional\n",
    "                class threshold for numeric but categorical variables\n",
    "        car_th: int, optinal\n",
    "                class threshold for categorical but cardinal variables\n",
    "    Returns\n",
    "    ------\n",
    "        cat_cols: list\n",
    "                Categorical variable list\n",
    "        num_cols: list\n",
    "                Numeric variable list\n",
    "        cat_but_car: list\n",
    "                List of cardinal variables with categorical view\n",
    "    Examples\n",
    "    ------\n",
    "        import seaborn as sns\n",
    "        df = sns.load_dataset(\"iris\")\n",
    "        print(grab_col_names(df))\n",
    "    Notes\n",
    "    ------\n",
    "        cat_cols + num_cols + cat_but_car = total number of variables\n",
    "        num_but_cat is inside cat_cols.\n",
    "        The sum of the 3 return lists equals the total number of variables: cat_cols + num_cols + cat_but_car = number of variables\n",
    "    \"\"\"\n",
    "\n",
    "    # cat_cols, cat_but_car\n",
    "    cat_cols = [col for col in dataframe.columns if dataframe[col].dtypes == 'O']\n",
    "    num_but_cat = [col for col in dataframe.columns if dataframe[col].nunique() < cat_th and\n",
    "                   dataframe[col].dtypes != 'O']\n",
    "    cat_but_car = [col for col in dataframe.columns if dataframe[col].nunique() > car_th and\n",
    "                   dataframe[col].dtypes == 'O']\n",
    "    cat_cols = cat_cols + num_but_cat\n",
    "    cat_cols = [col for col in cat_cols if col not in cat_but_car]\n",
    "\n",
    "    # num_cols\n",
    "    num_cols = [col for col in dataframe.columns if dataframe[col].dtypes != 'O']\n",
    "    num_cols = [col for col in num_cols if col not in num_but_cat]\n",
    "\n",
    "    print(f'Observations: {dataframe.shape[0]}')\n",
    "    print(f'Variables: {dataframe.shape[1]}')\n",
    "    print(f'cat_cols: {len(cat_cols)}')\n",
    "    print(f'num_cols: {len(num_cols)}')\n",
    "    print(f'cat_but_car: {len(cat_but_car)}')\n",
    "    print(f'num_but_cat: {len(num_but_cat)}')\n",
    "    return cat_cols, num_cols, cat_but_car, num_but_cat\n",
    "\n",
    "cat_cols, num_cols, cat_but_car, num_but_cat = grab_col_names(df)"
   ]
  },
  {
   "cell_type": "code",
   "execution_count": 8,
   "id": "0ea5eae2",
   "metadata": {
    "execution": {
     "iopub.execute_input": "2023-06-09T21:49:33.311599Z",
     "iopub.status.busy": "2023-06-09T21:49:33.311195Z",
     "iopub.status.idle": "2023-06-09T21:49:33.514942Z",
     "shell.execute_reply": "2023-06-09T21:49:33.513577Z"
    },
    "papermill": {
     "duration": 0.217213,
     "end_time": "2023-06-09T21:49:33.517201",
     "exception": false,
     "start_time": "2023-06-09T21:49:33.299988",
     "status": "completed"
    },
    "tags": []
   },
   "outputs": [],
   "source": [
    "# We selected the sales with a sales number greater than zero from df and reassigned it to the df variable. \n",
    "#The reason for doing this is to remove the purchase returns from the data set.\n",
    "\n",
    "df = df[(df['Quantity'] > 0)]"
   ]
  },
  {
   "cell_type": "code",
   "execution_count": 9,
   "id": "b57ee61c",
   "metadata": {
    "execution": {
     "iopub.execute_input": "2023-06-09T21:49:33.539488Z",
     "iopub.status.busy": "2023-06-09T21:49:33.539115Z",
     "iopub.status.idle": "2023-06-09T21:49:33.546221Z",
     "shell.execute_reply": "2023-06-09T21:49:33.545039Z"
    },
    "papermill": {
     "duration": 0.020632,
     "end_time": "2023-06-09T21:49:33.548310",
     "exception": false,
     "start_time": "2023-06-09T21:49:33.527678",
     "status": "completed"
    },
    "tags": []
   },
   "outputs": [
    {
     "data": {
      "text/plain": [
       "0    12\n",
       "1    12\n",
       "2    12\n",
       "3    48\n",
       "4    24\n",
       "Name: Quantity, dtype: int64"
      ]
     },
     "execution_count": 9,
     "metadata": {},
     "output_type": "execute_result"
    }
   ],
   "source": [
    "df['Quantity'].head()"
   ]
  },
  {
   "cell_type": "code",
   "execution_count": 10,
   "id": "49cc10bb",
   "metadata": {
    "execution": {
     "iopub.execute_input": "2023-06-09T21:49:33.571672Z",
     "iopub.status.busy": "2023-06-09T21:49:33.571331Z",
     "iopub.status.idle": "2023-06-09T21:49:34.221310Z",
     "shell.execute_reply": "2023-06-09T21:49:34.220472Z"
    },
    "papermill": {
     "duration": 0.664271,
     "end_time": "2023-06-09T21:49:34.223460",
     "exception": false,
     "start_time": "2023-06-09T21:49:33.559189",
     "status": "completed"
    },
    "tags": []
   },
   "outputs": [],
   "source": [
    "# From the observations in the dataset, we selected the observations that do not contain the C expression.\n",
    "df = df[df[\"Invoice\"].astype(str).str.contains(\"C\")==False]"
   ]
  },
  {
   "cell_type": "code",
   "execution_count": 11,
   "id": "21d9224b",
   "metadata": {
    "execution": {
     "iopub.execute_input": "2023-06-09T21:49:34.245228Z",
     "iopub.status.busy": "2023-06-09T21:49:34.244942Z",
     "iopub.status.idle": "2023-06-09T21:49:34.865221Z",
     "shell.execute_reply": "2023-06-09T21:49:34.864180Z"
    },
    "papermill": {
     "duration": 0.633741,
     "end_time": "2023-06-09T21:49:34.867582",
     "exception": false,
     "start_time": "2023-06-09T21:49:34.233841",
     "status": "completed"
    },
    "tags": []
   },
   "outputs": [],
   "source": [
    "# We removed empty observations from the data set.\n",
    "df.dropna(inplace=True)"
   ]
  },
  {
   "cell_type": "code",
   "execution_count": 12,
   "id": "3c4df999",
   "metadata": {
    "execution": {
     "iopub.execute_input": "2023-06-09T21:49:34.890740Z",
     "iopub.status.busy": "2023-06-09T21:49:34.890226Z",
     "iopub.status.idle": "2023-06-09T21:49:35.315468Z",
     "shell.execute_reply": "2023-06-09T21:49:35.314504Z"
    },
    "papermill": {
     "duration": 0.438989,
     "end_time": "2023-06-09T21:49:35.317393",
     "exception": false,
     "start_time": "2023-06-09T21:49:34.878404",
     "status": "completed"
    },
    "tags": []
   },
   "outputs": [
    {
     "data": {
      "text/plain": [
       "Invoice        0\n",
       "StockCode      0\n",
       "Description    0\n",
       "Quantity       0\n",
       "InvoiceDate    0\n",
       "Price          0\n",
       "Customer ID    0\n",
       "Country        0\n",
       "dtype: int64"
      ]
     },
     "execution_count": 12,
     "metadata": {},
     "output_type": "execute_result"
    }
   ],
   "source": [
    "df.isnull().sum()"
   ]
  },
  {
   "cell_type": "code",
   "execution_count": 13,
   "id": "ce9590d9",
   "metadata": {
    "execution": {
     "iopub.execute_input": "2023-06-09T21:49:35.341266Z",
     "iopub.status.busy": "2023-06-09T21:49:35.340893Z",
     "iopub.status.idle": "2023-06-09T21:49:35.347985Z",
     "shell.execute_reply": "2023-06-09T21:49:35.347115Z"
    },
    "papermill": {
     "duration": 0.021075,
     "end_time": "2023-06-09T21:49:35.349829",
     "exception": false,
     "start_time": "2023-06-09T21:49:35.328754",
     "status": "completed"
    },
    "tags": []
   },
   "outputs": [],
   "source": [
    "# Creation of TotalPrice\n",
    "df[\"TotalPrice\"] = df[\"Quantity\"] * df[\"Price\"]"
   ]
  },
  {
   "cell_type": "code",
   "execution_count": 14,
   "id": "3d76334f",
   "metadata": {
    "execution": {
     "iopub.execute_input": "2023-06-09T21:49:35.372663Z",
     "iopub.status.busy": "2023-06-09T21:49:35.372275Z",
     "iopub.status.idle": "2023-06-09T21:49:35.385249Z",
     "shell.execute_reply": "2023-06-09T21:49:35.383890Z"
    },
    "papermill": {
     "duration": 0.026803,
     "end_time": "2023-06-09T21:49:35.387596",
     "exception": false,
     "start_time": "2023-06-09T21:49:35.360793",
     "status": "completed"
    },
    "tags": []
   },
   "outputs": [
    {
     "data": {
      "text/html": [
       "<div>\n",
       "<style scoped>\n",
       "    .dataframe tbody tr th:only-of-type {\n",
       "        vertical-align: middle;\n",
       "    }\n",
       "\n",
       "    .dataframe tbody tr th {\n",
       "        vertical-align: top;\n",
       "    }\n",
       "\n",
       "    .dataframe thead th {\n",
       "        text-align: right;\n",
       "    }\n",
       "</style>\n",
       "<table border=\"1\" class=\"dataframe\">\n",
       "  <thead>\n",
       "    <tr style=\"text-align: right;\">\n",
       "      <th></th>\n",
       "      <th>Invoice</th>\n",
       "      <th>StockCode</th>\n",
       "      <th>Description</th>\n",
       "      <th>Quantity</th>\n",
       "      <th>InvoiceDate</th>\n",
       "      <th>Price</th>\n",
       "      <th>Customer ID</th>\n",
       "      <th>Country</th>\n",
       "      <th>TotalPrice</th>\n",
       "    </tr>\n",
       "  </thead>\n",
       "  <tbody>\n",
       "    <tr>\n",
       "      <th>0</th>\n",
       "      <td>489434</td>\n",
       "      <td>85048</td>\n",
       "      <td>15CM CHRISTMAS GLASS BALL 20 LIGHTS</td>\n",
       "      <td>12</td>\n",
       "      <td>2009-12-01 07:45:00</td>\n",
       "      <td>6.95</td>\n",
       "      <td>13085.00</td>\n",
       "      <td>United Kingdom</td>\n",
       "      <td>83.40</td>\n",
       "    </tr>\n",
       "    <tr>\n",
       "      <th>1</th>\n",
       "      <td>489434</td>\n",
       "      <td>79323P</td>\n",
       "      <td>PINK CHERRY LIGHTS</td>\n",
       "      <td>12</td>\n",
       "      <td>2009-12-01 07:45:00</td>\n",
       "      <td>6.75</td>\n",
       "      <td>13085.00</td>\n",
       "      <td>United Kingdom</td>\n",
       "      <td>81.00</td>\n",
       "    </tr>\n",
       "    <tr>\n",
       "      <th>2</th>\n",
       "      <td>489434</td>\n",
       "      <td>79323W</td>\n",
       "      <td>WHITE CHERRY LIGHTS</td>\n",
       "      <td>12</td>\n",
       "      <td>2009-12-01 07:45:00</td>\n",
       "      <td>6.75</td>\n",
       "      <td>13085.00</td>\n",
       "      <td>United Kingdom</td>\n",
       "      <td>81.00</td>\n",
       "    </tr>\n",
       "    <tr>\n",
       "      <th>3</th>\n",
       "      <td>489434</td>\n",
       "      <td>22041</td>\n",
       "      <td>RECORD FRAME 7\" SINGLE SIZE</td>\n",
       "      <td>48</td>\n",
       "      <td>2009-12-01 07:45:00</td>\n",
       "      <td>2.10</td>\n",
       "      <td>13085.00</td>\n",
       "      <td>United Kingdom</td>\n",
       "      <td>100.80</td>\n",
       "    </tr>\n",
       "    <tr>\n",
       "      <th>4</th>\n",
       "      <td>489434</td>\n",
       "      <td>21232</td>\n",
       "      <td>STRAWBERRY CERAMIC TRINKET BOX</td>\n",
       "      <td>24</td>\n",
       "      <td>2009-12-01 07:45:00</td>\n",
       "      <td>1.25</td>\n",
       "      <td>13085.00</td>\n",
       "      <td>United Kingdom</td>\n",
       "      <td>30.00</td>\n",
       "    </tr>\n",
       "  </tbody>\n",
       "</table>\n",
       "</div>"
      ],
      "text/plain": [
       "  Invoice StockCode                          Description  Quantity  \\\n",
       "0  489434     85048  15CM CHRISTMAS GLASS BALL 20 LIGHTS        12   \n",
       "1  489434    79323P                   PINK CHERRY LIGHTS        12   \n",
       "2  489434    79323W                  WHITE CHERRY LIGHTS        12   \n",
       "3  489434     22041         RECORD FRAME 7\" SINGLE SIZE         48   \n",
       "4  489434     21232       STRAWBERRY CERAMIC TRINKET BOX        24   \n",
       "\n",
       "          InvoiceDate  Price  Customer ID         Country  TotalPrice  \n",
       "0 2009-12-01 07:45:00   6.95     13085.00  United Kingdom       83.40  \n",
       "1 2009-12-01 07:45:00   6.75     13085.00  United Kingdom       81.00  \n",
       "2 2009-12-01 07:45:00   6.75     13085.00  United Kingdom       81.00  \n",
       "3 2009-12-01 07:45:00   2.10     13085.00  United Kingdom      100.80  \n",
       "4 2009-12-01 07:45:00   1.25     13085.00  United Kingdom       30.00  "
      ]
     },
     "execution_count": 14,
     "metadata": {},
     "output_type": "execute_result"
    }
   ],
   "source": [
    "df.head()"
   ]
  },
  {
   "cell_type": "code",
   "execution_count": 15,
   "id": "1f130f4a",
   "metadata": {
    "execution": {
     "iopub.execute_input": "2023-06-09T21:49:35.410909Z",
     "iopub.status.busy": "2023-06-09T21:49:35.410573Z",
     "iopub.status.idle": "2023-06-09T21:49:36.780983Z",
     "shell.execute_reply": "2023-06-09T21:49:36.780276Z"
    },
    "papermill": {
     "duration": 1.384653,
     "end_time": "2023-06-09T21:49:36.783192",
     "exception": false,
     "start_time": "2023-06-09T21:49:35.398539",
     "status": "completed"
    },
    "tags": []
   },
   "outputs": [],
   "source": [
    "# cltv_c is short name of custome life time value calculation\n",
    "cltv_c = df.groupby(\"Customer ID\").agg({\"Invoice\": lambda Invoice: Invoice.nunique(),\n",
    "                                      \"Quantity\": lambda Quantity: Quantity.sum(), \n",
    "                                      \"TotalPrice\": lambda TotalPrice: TotalPrice.sum()})"
   ]
  },
  {
   "cell_type": "code",
   "execution_count": 16,
   "id": "783d1308",
   "metadata": {
    "execution": {
     "iopub.execute_input": "2023-06-09T21:49:36.807510Z",
     "iopub.status.busy": "2023-06-09T21:49:36.806196Z",
     "iopub.status.idle": "2023-06-09T21:49:36.816477Z",
     "shell.execute_reply": "2023-06-09T21:49:36.815365Z"
    },
    "papermill": {
     "duration": 0.024076,
     "end_time": "2023-06-09T21:49:36.818248",
     "exception": false,
     "start_time": "2023-06-09T21:49:36.794172",
     "status": "completed"
    },
    "tags": []
   },
   "outputs": [
    {
     "data": {
      "text/html": [
       "<div>\n",
       "<style scoped>\n",
       "    .dataframe tbody tr th:only-of-type {\n",
       "        vertical-align: middle;\n",
       "    }\n",
       "\n",
       "    .dataframe tbody tr th {\n",
       "        vertical-align: top;\n",
       "    }\n",
       "\n",
       "    .dataframe thead th {\n",
       "        text-align: right;\n",
       "    }\n",
       "</style>\n",
       "<table border=\"1\" class=\"dataframe\">\n",
       "  <thead>\n",
       "    <tr style=\"text-align: right;\">\n",
       "      <th></th>\n",
       "      <th>Invoice</th>\n",
       "      <th>Quantity</th>\n",
       "      <th>TotalPrice</th>\n",
       "    </tr>\n",
       "    <tr>\n",
       "      <th>Customer ID</th>\n",
       "      <th></th>\n",
       "      <th></th>\n",
       "      <th></th>\n",
       "    </tr>\n",
       "  </thead>\n",
       "  <tbody>\n",
       "    <tr>\n",
       "      <th>12346.00</th>\n",
       "      <td>12</td>\n",
       "      <td>74285</td>\n",
       "      <td>77556.46</td>\n",
       "    </tr>\n",
       "    <tr>\n",
       "      <th>12347.00</th>\n",
       "      <td>8</td>\n",
       "      <td>3286</td>\n",
       "      <td>5633.32</td>\n",
       "    </tr>\n",
       "    <tr>\n",
       "      <th>12348.00</th>\n",
       "      <td>5</td>\n",
       "      <td>2714</td>\n",
       "      <td>2019.40</td>\n",
       "    </tr>\n",
       "    <tr>\n",
       "      <th>12349.00</th>\n",
       "      <td>4</td>\n",
       "      <td>1624</td>\n",
       "      <td>4428.69</td>\n",
       "    </tr>\n",
       "    <tr>\n",
       "      <th>12350.00</th>\n",
       "      <td>1</td>\n",
       "      <td>197</td>\n",
       "      <td>334.40</td>\n",
       "    </tr>\n",
       "  </tbody>\n",
       "</table>\n",
       "</div>"
      ],
      "text/plain": [
       "             Invoice  Quantity  TotalPrice\n",
       "Customer ID                               \n",
       "12346.00          12     74285    77556.46\n",
       "12347.00           8      3286     5633.32\n",
       "12348.00           5      2714     2019.40\n",
       "12349.00           4      1624     4428.69\n",
       "12350.00           1       197      334.40"
      ]
     },
     "execution_count": 16,
     "metadata": {},
     "output_type": "execute_result"
    }
   ],
   "source": [
    "cltv_c.head()"
   ]
  },
  {
   "cell_type": "code",
   "execution_count": 17,
   "id": "81558ebe",
   "metadata": {
    "execution": {
     "iopub.execute_input": "2023-06-09T21:49:36.841265Z",
     "iopub.status.busy": "2023-06-09T21:49:36.840947Z",
     "iopub.status.idle": "2023-06-09T21:49:36.845570Z",
     "shell.execute_reply": "2023-06-09T21:49:36.844505Z"
    },
    "papermill": {
     "duration": 0.01878,
     "end_time": "2023-06-09T21:49:36.847916",
     "exception": false,
     "start_time": "2023-06-09T21:49:36.829136",
     "status": "completed"
    },
    "tags": []
   },
   "outputs": [],
   "source": [
    "# Changing column names\n",
    "cltv_c.columns = [\"total_transaction\", \"total_unit\", \"total_price\"]"
   ]
  },
  {
   "cell_type": "code",
   "execution_count": 18,
   "id": "33878327",
   "metadata": {
    "execution": {
     "iopub.execute_input": "2023-06-09T21:49:36.872584Z",
     "iopub.status.busy": "2023-06-09T21:49:36.872063Z",
     "iopub.status.idle": "2023-06-09T21:49:36.879332Z",
     "shell.execute_reply": "2023-06-09T21:49:36.878779Z"
    },
    "papermill": {
     "duration": 0.021592,
     "end_time": "2023-06-09T21:49:36.880918",
     "exception": false,
     "start_time": "2023-06-09T21:49:36.859326",
     "status": "completed"
    },
    "tags": []
   },
   "outputs": [
    {
     "data": {
      "text/html": [
       "<div>\n",
       "<style scoped>\n",
       "    .dataframe tbody tr th:only-of-type {\n",
       "        vertical-align: middle;\n",
       "    }\n",
       "\n",
       "    .dataframe tbody tr th {\n",
       "        vertical-align: top;\n",
       "    }\n",
       "\n",
       "    .dataframe thead th {\n",
       "        text-align: right;\n",
       "    }\n",
       "</style>\n",
       "<table border=\"1\" class=\"dataframe\">\n",
       "  <thead>\n",
       "    <tr style=\"text-align: right;\">\n",
       "      <th></th>\n",
       "      <th>total_transaction</th>\n",
       "      <th>total_unit</th>\n",
       "      <th>total_price</th>\n",
       "    </tr>\n",
       "    <tr>\n",
       "      <th>Customer ID</th>\n",
       "      <th></th>\n",
       "      <th></th>\n",
       "      <th></th>\n",
       "    </tr>\n",
       "  </thead>\n",
       "  <tbody>\n",
       "    <tr>\n",
       "      <th>12346.00</th>\n",
       "      <td>12</td>\n",
       "      <td>74285</td>\n",
       "      <td>77556.46</td>\n",
       "    </tr>\n",
       "    <tr>\n",
       "      <th>12347.00</th>\n",
       "      <td>8</td>\n",
       "      <td>3286</td>\n",
       "      <td>5633.32</td>\n",
       "    </tr>\n",
       "    <tr>\n",
       "      <th>12348.00</th>\n",
       "      <td>5</td>\n",
       "      <td>2714</td>\n",
       "      <td>2019.40</td>\n",
       "    </tr>\n",
       "    <tr>\n",
       "      <th>12349.00</th>\n",
       "      <td>4</td>\n",
       "      <td>1624</td>\n",
       "      <td>4428.69</td>\n",
       "    </tr>\n",
       "    <tr>\n",
       "      <th>12350.00</th>\n",
       "      <td>1</td>\n",
       "      <td>197</td>\n",
       "      <td>334.40</td>\n",
       "    </tr>\n",
       "  </tbody>\n",
       "</table>\n",
       "</div>"
      ],
      "text/plain": [
       "             total_transaction  total_unit  total_price\n",
       "Customer ID                                            \n",
       "12346.00                    12       74285     77556.46\n",
       "12347.00                     8        3286      5633.32\n",
       "12348.00                     5        2714      2019.40\n",
       "12349.00                     4        1624      4428.69\n",
       "12350.00                     1         197       334.40"
      ]
     },
     "execution_count": 18,
     "metadata": {},
     "output_type": "execute_result"
    }
   ],
   "source": [
    "cltv_c.head()"
   ]
  },
  {
   "cell_type": "markdown",
   "id": "e067808c",
   "metadata": {
    "papermill": {
     "duration": 0.010659,
     "end_time": "2023-06-09T21:49:36.902761",
     "exception": false,
     "start_time": "2023-06-09T21:49:36.892102",
     "status": "completed"
    },
    "tags": []
   },
   "source": [
    "# Average Order Value \n",
    "\n",
    "**average_order_value = total_price / total_transaction**"
   ]
  },
  {
   "cell_type": "code",
   "execution_count": 19,
   "id": "18e28a8c",
   "metadata": {
    "execution": {
     "iopub.execute_input": "2023-06-09T21:49:36.926233Z",
     "iopub.status.busy": "2023-06-09T21:49:36.925897Z",
     "iopub.status.idle": "2023-06-09T21:49:36.931966Z",
     "shell.execute_reply": "2023-06-09T21:49:36.931202Z"
    },
    "papermill": {
     "duration": 0.020051,
     "end_time": "2023-06-09T21:49:36.933781",
     "exception": false,
     "start_time": "2023-06-09T21:49:36.913730",
     "status": "completed"
    },
    "tags": []
   },
   "outputs": [],
   "source": [
    "cltv_c[\"average_order_value\"] = cltv_c[\"total_price\"] / cltv_c[\"total_transaction\"]"
   ]
  },
  {
   "cell_type": "code",
   "execution_count": 20,
   "id": "fba689b5",
   "metadata": {
    "execution": {
     "iopub.execute_input": "2023-06-09T21:49:36.958052Z",
     "iopub.status.busy": "2023-06-09T21:49:36.957023Z",
     "iopub.status.idle": "2023-06-09T21:49:36.966766Z",
     "shell.execute_reply": "2023-06-09T21:49:36.965990Z"
    },
    "papermill": {
     "duration": 0.02359,
     "end_time": "2023-06-09T21:49:36.968527",
     "exception": false,
     "start_time": "2023-06-09T21:49:36.944937",
     "status": "completed"
    },
    "tags": []
   },
   "outputs": [
    {
     "data": {
      "text/html": [
       "<div>\n",
       "<style scoped>\n",
       "    .dataframe tbody tr th:only-of-type {\n",
       "        vertical-align: middle;\n",
       "    }\n",
       "\n",
       "    .dataframe tbody tr th {\n",
       "        vertical-align: top;\n",
       "    }\n",
       "\n",
       "    .dataframe thead th {\n",
       "        text-align: right;\n",
       "    }\n",
       "</style>\n",
       "<table border=\"1\" class=\"dataframe\">\n",
       "  <thead>\n",
       "    <tr style=\"text-align: right;\">\n",
       "      <th></th>\n",
       "      <th>total_transaction</th>\n",
       "      <th>total_unit</th>\n",
       "      <th>total_price</th>\n",
       "      <th>average_order_value</th>\n",
       "    </tr>\n",
       "    <tr>\n",
       "      <th>Customer ID</th>\n",
       "      <th></th>\n",
       "      <th></th>\n",
       "      <th></th>\n",
       "      <th></th>\n",
       "    </tr>\n",
       "  </thead>\n",
       "  <tbody>\n",
       "    <tr>\n",
       "      <th>12346.00</th>\n",
       "      <td>12</td>\n",
       "      <td>74285</td>\n",
       "      <td>77556.46</td>\n",
       "      <td>6463.04</td>\n",
       "    </tr>\n",
       "    <tr>\n",
       "      <th>12347.00</th>\n",
       "      <td>8</td>\n",
       "      <td>3286</td>\n",
       "      <td>5633.32</td>\n",
       "      <td>704.17</td>\n",
       "    </tr>\n",
       "    <tr>\n",
       "      <th>12348.00</th>\n",
       "      <td>5</td>\n",
       "      <td>2714</td>\n",
       "      <td>2019.40</td>\n",
       "      <td>403.88</td>\n",
       "    </tr>\n",
       "    <tr>\n",
       "      <th>12349.00</th>\n",
       "      <td>4</td>\n",
       "      <td>1624</td>\n",
       "      <td>4428.69</td>\n",
       "      <td>1107.17</td>\n",
       "    </tr>\n",
       "    <tr>\n",
       "      <th>12350.00</th>\n",
       "      <td>1</td>\n",
       "      <td>197</td>\n",
       "      <td>334.40</td>\n",
       "      <td>334.40</td>\n",
       "    </tr>\n",
       "  </tbody>\n",
       "</table>\n",
       "</div>"
      ],
      "text/plain": [
       "             total_transaction  total_unit  total_price  average_order_value\n",
       "Customer ID                                                                 \n",
       "12346.00                    12       74285     77556.46              6463.04\n",
       "12347.00                     8        3286      5633.32               704.17\n",
       "12348.00                     5        2714      2019.40               403.88\n",
       "12349.00                     4        1624      4428.69              1107.17\n",
       "12350.00                     1         197       334.40               334.40"
      ]
     },
     "execution_count": 20,
     "metadata": {},
     "output_type": "execute_result"
    }
   ],
   "source": [
    "cltv_c.head()"
   ]
  },
  {
   "cell_type": "markdown",
   "id": "aa148abe",
   "metadata": {
    "papermill": {
     "duration": 0.011656,
     "end_time": "2023-06-09T21:49:36.992008",
     "exception": false,
     "start_time": "2023-06-09T21:49:36.980352",
     "status": "completed"
    },
    "tags": []
   },
   "source": [
    "# Purchase Frequency \n",
    "\n",
    "**purchase frequency** = **total_transaction / total_number_of_customers**"
   ]
  },
  {
   "cell_type": "code",
   "execution_count": 21,
   "id": "ed9ba837",
   "metadata": {
    "execution": {
     "iopub.execute_input": "2023-06-09T21:49:37.017124Z",
     "iopub.status.busy": "2023-06-09T21:49:37.016158Z",
     "iopub.status.idle": "2023-06-09T21:49:37.021866Z",
     "shell.execute_reply": "2023-06-09T21:49:37.021002Z"
    },
    "papermill": {
     "duration": 0.020363,
     "end_time": "2023-06-09T21:49:37.024078",
     "exception": false,
     "start_time": "2023-06-09T21:49:37.003715",
     "status": "completed"
    },
    "tags": []
   },
   "outputs": [],
   "source": [
    "cltv_c[\"purchase_frequency\"] = cltv_c[\"total_transaction\"] / cltv_c.shape[0]"
   ]
  },
  {
   "cell_type": "code",
   "execution_count": 22,
   "id": "c188bdeb",
   "metadata": {
    "execution": {
     "iopub.execute_input": "2023-06-09T21:49:37.048761Z",
     "iopub.status.busy": "2023-06-09T21:49:37.047923Z",
     "iopub.status.idle": "2023-06-09T21:49:37.057353Z",
     "shell.execute_reply": "2023-06-09T21:49:37.056237Z"
    },
    "papermill": {
     "duration": 0.024156,
     "end_time": "2023-06-09T21:49:37.059925",
     "exception": false,
     "start_time": "2023-06-09T21:49:37.035769",
     "status": "completed"
    },
    "tags": []
   },
   "outputs": [
    {
     "data": {
      "text/html": [
       "<div>\n",
       "<style scoped>\n",
       "    .dataframe tbody tr th:only-of-type {\n",
       "        vertical-align: middle;\n",
       "    }\n",
       "\n",
       "    .dataframe tbody tr th {\n",
       "        vertical-align: top;\n",
       "    }\n",
       "\n",
       "    .dataframe thead th {\n",
       "        text-align: right;\n",
       "    }\n",
       "</style>\n",
       "<table border=\"1\" class=\"dataframe\">\n",
       "  <thead>\n",
       "    <tr style=\"text-align: right;\">\n",
       "      <th></th>\n",
       "      <th>total_transaction</th>\n",
       "      <th>total_unit</th>\n",
       "      <th>total_price</th>\n",
       "      <th>average_order_value</th>\n",
       "      <th>purchase_frequency</th>\n",
       "    </tr>\n",
       "    <tr>\n",
       "      <th>Customer ID</th>\n",
       "      <th></th>\n",
       "      <th></th>\n",
       "      <th></th>\n",
       "      <th></th>\n",
       "      <th></th>\n",
       "    </tr>\n",
       "  </thead>\n",
       "  <tbody>\n",
       "    <tr>\n",
       "      <th>12346.00</th>\n",
       "      <td>12</td>\n",
       "      <td>74285</td>\n",
       "      <td>77556.46</td>\n",
       "      <td>6463.04</td>\n",
       "      <td>0.00</td>\n",
       "    </tr>\n",
       "    <tr>\n",
       "      <th>12347.00</th>\n",
       "      <td>8</td>\n",
       "      <td>3286</td>\n",
       "      <td>5633.32</td>\n",
       "      <td>704.17</td>\n",
       "      <td>0.00</td>\n",
       "    </tr>\n",
       "    <tr>\n",
       "      <th>12348.00</th>\n",
       "      <td>5</td>\n",
       "      <td>2714</td>\n",
       "      <td>2019.40</td>\n",
       "      <td>403.88</td>\n",
       "      <td>0.00</td>\n",
       "    </tr>\n",
       "    <tr>\n",
       "      <th>12349.00</th>\n",
       "      <td>4</td>\n",
       "      <td>1624</td>\n",
       "      <td>4428.69</td>\n",
       "      <td>1107.17</td>\n",
       "      <td>0.00</td>\n",
       "    </tr>\n",
       "    <tr>\n",
       "      <th>12350.00</th>\n",
       "      <td>1</td>\n",
       "      <td>197</td>\n",
       "      <td>334.40</td>\n",
       "      <td>334.40</td>\n",
       "      <td>0.00</td>\n",
       "    </tr>\n",
       "  </tbody>\n",
       "</table>\n",
       "</div>"
      ],
      "text/plain": [
       "             total_transaction  total_unit  total_price  average_order_value  \\\n",
       "Customer ID                                                                    \n",
       "12346.00                    12       74285     77556.46              6463.04   \n",
       "12347.00                     8        3286      5633.32               704.17   \n",
       "12348.00                     5        2714      2019.40               403.88   \n",
       "12349.00                     4        1624      4428.69              1107.17   \n",
       "12350.00                     1         197       334.40               334.40   \n",
       "\n",
       "             purchase_frequency  \n",
       "Customer ID                      \n",
       "12346.00                   0.00  \n",
       "12347.00                   0.00  \n",
       "12348.00                   0.00  \n",
       "12349.00                   0.00  \n",
       "12350.00                   0.00  "
      ]
     },
     "execution_count": 22,
     "metadata": {},
     "output_type": "execute_result"
    }
   ],
   "source": [
    "cltv_c.head()"
   ]
  },
  {
   "cell_type": "markdown",
   "id": "9beed3f1",
   "metadata": {
    "papermill": {
     "duration": 0.011394,
     "end_time": "2023-06-09T21:49:37.083549",
     "exception": false,
     "start_time": "2023-06-09T21:49:37.072155",
     "status": "completed"
    },
    "tags": []
   },
   "source": [
    "# Repeat Rate & Churn Rate \n",
    "- **repeat rate = (total_transactio >1) / all customers**"
   ]
  },
  {
   "cell_type": "code",
   "execution_count": 23,
   "id": "82328457",
   "metadata": {
    "execution": {
     "iopub.execute_input": "2023-06-09T21:49:37.108960Z",
     "iopub.status.busy": "2023-06-09T21:49:37.108338Z",
     "iopub.status.idle": "2023-06-09T21:49:37.113964Z",
     "shell.execute_reply": "2023-06-09T21:49:37.112950Z"
    },
    "papermill": {
     "duration": 0.020877,
     "end_time": "2023-06-09T21:49:37.116124",
     "exception": false,
     "start_time": "2023-06-09T21:49:37.095247",
     "status": "completed"
    },
    "tags": []
   },
   "outputs": [],
   "source": [
    "# repeat_rate\n",
    "repeat_rate = cltv_c[cltv_c[\"total_transaction\"] > 1].shape[0] / cltv_c.shape[0]"
   ]
  },
  {
   "cell_type": "code",
   "execution_count": 24,
   "id": "c0b673f5",
   "metadata": {
    "execution": {
     "iopub.execute_input": "2023-06-09T21:49:37.140950Z",
     "iopub.status.busy": "2023-06-09T21:49:37.140379Z",
     "iopub.status.idle": "2023-06-09T21:49:37.146409Z",
     "shell.execute_reply": "2023-06-09T21:49:37.145490Z"
    },
    "papermill": {
     "duration": 0.021174,
     "end_time": "2023-06-09T21:49:37.148968",
     "exception": false,
     "start_time": "2023-06-09T21:49:37.127794",
     "status": "completed"
    },
    "tags": []
   },
   "outputs": [
    {
     "data": {
      "text/plain": [
       "0.723516408774018"
      ]
     },
     "execution_count": 24,
     "metadata": {},
     "output_type": "execute_result"
    }
   ],
   "source": [
    "repeat_rate"
   ]
  },
  {
   "cell_type": "code",
   "execution_count": 25,
   "id": "f11a5115",
   "metadata": {
    "execution": {
     "iopub.execute_input": "2023-06-09T21:49:37.174351Z",
     "iopub.status.busy": "2023-06-09T21:49:37.174048Z",
     "iopub.status.idle": "2023-06-09T21:49:37.178245Z",
     "shell.execute_reply": "2023-06-09T21:49:37.177000Z"
    },
    "papermill": {
     "duration": 0.018962,
     "end_time": "2023-06-09T21:49:37.180022",
     "exception": false,
     "start_time": "2023-06-09T21:49:37.161060",
     "status": "completed"
    },
    "tags": []
   },
   "outputs": [],
   "source": [
    "# churn rate\n",
    "churn_rate = 1 - repeat_rate"
   ]
  },
  {
   "cell_type": "code",
   "execution_count": 26,
   "id": "8d97dba6",
   "metadata": {
    "execution": {
     "iopub.execute_input": "2023-06-09T21:49:37.206290Z",
     "iopub.status.busy": "2023-06-09T21:49:37.205952Z",
     "iopub.status.idle": "2023-06-09T21:49:37.212772Z",
     "shell.execute_reply": "2023-06-09T21:49:37.211375Z"
    },
    "papermill": {
     "duration": 0.022777,
     "end_time": "2023-06-09T21:49:37.214770",
     "exception": false,
     "start_time": "2023-06-09T21:49:37.191993",
     "status": "completed"
    },
    "tags": []
   },
   "outputs": [
    {
     "data": {
      "text/plain": [
       "0.276483591225982"
      ]
     },
     "execution_count": 26,
     "metadata": {},
     "output_type": "execute_result"
    }
   ],
   "source": [
    "churn_rate"
   ]
  },
  {
   "cell_type": "markdown",
   "id": "0ec3b913",
   "metadata": {
    "papermill": {
     "duration": 0.011163,
     "end_time": "2023-06-09T21:49:37.237501",
     "exception": false,
     "start_time": "2023-06-09T21:49:37.226338",
     "status": "completed"
    },
    "tags": []
   },
   "source": [
    "# Profit Margin \n",
    "- **profit_margin =  total_price * 0.10**"
   ]
  },
  {
   "cell_type": "code",
   "execution_count": 27,
   "id": "1e2fb01f",
   "metadata": {
    "execution": {
     "iopub.execute_input": "2023-06-09T21:49:37.262127Z",
     "iopub.status.busy": "2023-06-09T21:49:37.261801Z",
     "iopub.status.idle": "2023-06-09T21:49:37.267265Z",
     "shell.execute_reply": "2023-06-09T21:49:37.266059Z"
    },
    "papermill": {
     "duration": 0.020877,
     "end_time": "2023-06-09T21:49:37.269767",
     "exception": false,
     "start_time": "2023-06-09T21:49:37.248890",
     "status": "completed"
    },
    "tags": []
   },
   "outputs": [],
   "source": [
    "cltv_c[\"profit_margin\"] = cltv_c[\"total_price\"] * 0.10"
   ]
  },
  {
   "cell_type": "code",
   "execution_count": 28,
   "id": "b17a0303",
   "metadata": {
    "execution": {
     "iopub.execute_input": "2023-06-09T21:49:37.295001Z",
     "iopub.status.busy": "2023-06-09T21:49:37.294685Z",
     "iopub.status.idle": "2023-06-09T21:49:37.305006Z",
     "shell.execute_reply": "2023-06-09T21:49:37.303748Z"
    },
    "papermill": {
     "duration": 0.025418,
     "end_time": "2023-06-09T21:49:37.307348",
     "exception": false,
     "start_time": "2023-06-09T21:49:37.281930",
     "status": "completed"
    },
    "tags": []
   },
   "outputs": [
    {
     "data": {
      "text/html": [
       "<div>\n",
       "<style scoped>\n",
       "    .dataframe tbody tr th:only-of-type {\n",
       "        vertical-align: middle;\n",
       "    }\n",
       "\n",
       "    .dataframe tbody tr th {\n",
       "        vertical-align: top;\n",
       "    }\n",
       "\n",
       "    .dataframe thead th {\n",
       "        text-align: right;\n",
       "    }\n",
       "</style>\n",
       "<table border=\"1\" class=\"dataframe\">\n",
       "  <thead>\n",
       "    <tr style=\"text-align: right;\">\n",
       "      <th></th>\n",
       "      <th>total_transaction</th>\n",
       "      <th>total_unit</th>\n",
       "      <th>total_price</th>\n",
       "      <th>average_order_value</th>\n",
       "      <th>purchase_frequency</th>\n",
       "      <th>profit_margin</th>\n",
       "    </tr>\n",
       "    <tr>\n",
       "      <th>Customer ID</th>\n",
       "      <th></th>\n",
       "      <th></th>\n",
       "      <th></th>\n",
       "      <th></th>\n",
       "      <th></th>\n",
       "      <th></th>\n",
       "    </tr>\n",
       "  </thead>\n",
       "  <tbody>\n",
       "    <tr>\n",
       "      <th>12346.00</th>\n",
       "      <td>12</td>\n",
       "      <td>74285</td>\n",
       "      <td>77556.46</td>\n",
       "      <td>6463.04</td>\n",
       "      <td>0.00</td>\n",
       "      <td>7755.65</td>\n",
       "    </tr>\n",
       "    <tr>\n",
       "      <th>12347.00</th>\n",
       "      <td>8</td>\n",
       "      <td>3286</td>\n",
       "      <td>5633.32</td>\n",
       "      <td>704.17</td>\n",
       "      <td>0.00</td>\n",
       "      <td>563.33</td>\n",
       "    </tr>\n",
       "    <tr>\n",
       "      <th>12348.00</th>\n",
       "      <td>5</td>\n",
       "      <td>2714</td>\n",
       "      <td>2019.40</td>\n",
       "      <td>403.88</td>\n",
       "      <td>0.00</td>\n",
       "      <td>201.94</td>\n",
       "    </tr>\n",
       "    <tr>\n",
       "      <th>12349.00</th>\n",
       "      <td>4</td>\n",
       "      <td>1624</td>\n",
       "      <td>4428.69</td>\n",
       "      <td>1107.17</td>\n",
       "      <td>0.00</td>\n",
       "      <td>442.87</td>\n",
       "    </tr>\n",
       "    <tr>\n",
       "      <th>12350.00</th>\n",
       "      <td>1</td>\n",
       "      <td>197</td>\n",
       "      <td>334.40</td>\n",
       "      <td>334.40</td>\n",
       "      <td>0.00</td>\n",
       "      <td>33.44</td>\n",
       "    </tr>\n",
       "  </tbody>\n",
       "</table>\n",
       "</div>"
      ],
      "text/plain": [
       "             total_transaction  total_unit  total_price  average_order_value  \\\n",
       "Customer ID                                                                    \n",
       "12346.00                    12       74285     77556.46              6463.04   \n",
       "12347.00                     8        3286      5633.32               704.17   \n",
       "12348.00                     5        2714      2019.40               403.88   \n",
       "12349.00                     4        1624      4428.69              1107.17   \n",
       "12350.00                     1         197       334.40               334.40   \n",
       "\n",
       "             purchase_frequency  profit_margin  \n",
       "Customer ID                                     \n",
       "12346.00                   0.00        7755.65  \n",
       "12347.00                   0.00         563.33  \n",
       "12348.00                   0.00         201.94  \n",
       "12349.00                   0.00         442.87  \n",
       "12350.00                   0.00          33.44  "
      ]
     },
     "execution_count": 28,
     "metadata": {},
     "output_type": "execute_result"
    }
   ],
   "source": [
    "cltv_c.head()"
   ]
  },
  {
   "cell_type": "markdown",
   "id": "fa1a79c3",
   "metadata": {
    "papermill": {
     "duration": 0.011624,
     "end_time": "2023-06-09T21:49:37.331216",
     "exception": false,
     "start_time": "2023-06-09T21:49:37.319592",
     "status": "completed"
    },
    "tags": []
   },
   "source": [
    "# Customer Value \n",
    "- **customer_value = average_order_value * purchase_frequency**"
   ]
  },
  {
   "cell_type": "code",
   "execution_count": 29,
   "id": "36edcc4f",
   "metadata": {
    "execution": {
     "iopub.execute_input": "2023-06-09T21:49:37.356234Z",
     "iopub.status.busy": "2023-06-09T21:49:37.355937Z",
     "iopub.status.idle": "2023-06-09T21:49:37.361542Z",
     "shell.execute_reply": "2023-06-09T21:49:37.360491Z"
    },
    "papermill": {
     "duration": 0.020864,
     "end_time": "2023-06-09T21:49:37.363910",
     "exception": false,
     "start_time": "2023-06-09T21:49:37.343046",
     "status": "completed"
    },
    "tags": []
   },
   "outputs": [],
   "source": [
    "cltv_c[\"customer_value\"] = cltv_c[\"average_order_value\"] * cltv_c[\"purchase_frequency\"]"
   ]
  },
  {
   "cell_type": "code",
   "execution_count": 30,
   "id": "7345b0eb",
   "metadata": {
    "execution": {
     "iopub.execute_input": "2023-06-09T21:49:37.390719Z",
     "iopub.status.busy": "2023-06-09T21:49:37.390367Z",
     "iopub.status.idle": "2023-06-09T21:49:37.401284Z",
     "shell.execute_reply": "2023-06-09T21:49:37.400402Z"
    },
    "papermill": {
     "duration": 0.026073,
     "end_time": "2023-06-09T21:49:37.403065",
     "exception": false,
     "start_time": "2023-06-09T21:49:37.376992",
     "status": "completed"
    },
    "tags": []
   },
   "outputs": [
    {
     "data": {
      "text/html": [
       "<div>\n",
       "<style scoped>\n",
       "    .dataframe tbody tr th:only-of-type {\n",
       "        vertical-align: middle;\n",
       "    }\n",
       "\n",
       "    .dataframe tbody tr th {\n",
       "        vertical-align: top;\n",
       "    }\n",
       "\n",
       "    .dataframe thead th {\n",
       "        text-align: right;\n",
       "    }\n",
       "</style>\n",
       "<table border=\"1\" class=\"dataframe\">\n",
       "  <thead>\n",
       "    <tr style=\"text-align: right;\">\n",
       "      <th></th>\n",
       "      <th>total_transaction</th>\n",
       "      <th>total_unit</th>\n",
       "      <th>total_price</th>\n",
       "      <th>average_order_value</th>\n",
       "      <th>purchase_frequency</th>\n",
       "      <th>profit_margin</th>\n",
       "      <th>customer_value</th>\n",
       "    </tr>\n",
       "    <tr>\n",
       "      <th>Customer ID</th>\n",
       "      <th></th>\n",
       "      <th></th>\n",
       "      <th></th>\n",
       "      <th></th>\n",
       "      <th></th>\n",
       "      <th></th>\n",
       "      <th></th>\n",
       "    </tr>\n",
       "  </thead>\n",
       "  <tbody>\n",
       "    <tr>\n",
       "      <th>12346.00</th>\n",
       "      <td>12</td>\n",
       "      <td>74285</td>\n",
       "      <td>77556.46</td>\n",
       "      <td>6463.04</td>\n",
       "      <td>0.00</td>\n",
       "      <td>7755.65</td>\n",
       "      <td>13.19</td>\n",
       "    </tr>\n",
       "    <tr>\n",
       "      <th>12347.00</th>\n",
       "      <td>8</td>\n",
       "      <td>3286</td>\n",
       "      <td>5633.32</td>\n",
       "      <td>704.17</td>\n",
       "      <td>0.00</td>\n",
       "      <td>563.33</td>\n",
       "      <td>0.96</td>\n",
       "    </tr>\n",
       "    <tr>\n",
       "      <th>12348.00</th>\n",
       "      <td>5</td>\n",
       "      <td>2714</td>\n",
       "      <td>2019.40</td>\n",
       "      <td>403.88</td>\n",
       "      <td>0.00</td>\n",
       "      <td>201.94</td>\n",
       "      <td>0.34</td>\n",
       "    </tr>\n",
       "    <tr>\n",
       "      <th>12349.00</th>\n",
       "      <td>4</td>\n",
       "      <td>1624</td>\n",
       "      <td>4428.69</td>\n",
       "      <td>1107.17</td>\n",
       "      <td>0.00</td>\n",
       "      <td>442.87</td>\n",
       "      <td>0.75</td>\n",
       "    </tr>\n",
       "    <tr>\n",
       "      <th>12350.00</th>\n",
       "      <td>1</td>\n",
       "      <td>197</td>\n",
       "      <td>334.40</td>\n",
       "      <td>334.40</td>\n",
       "      <td>0.00</td>\n",
       "      <td>33.44</td>\n",
       "      <td>0.06</td>\n",
       "    </tr>\n",
       "  </tbody>\n",
       "</table>\n",
       "</div>"
      ],
      "text/plain": [
       "             total_transaction  total_unit  total_price  average_order_value  \\\n",
       "Customer ID                                                                    \n",
       "12346.00                    12       74285     77556.46              6463.04   \n",
       "12347.00                     8        3286      5633.32               704.17   \n",
       "12348.00                     5        2714      2019.40               403.88   \n",
       "12349.00                     4        1624      4428.69              1107.17   \n",
       "12350.00                     1         197       334.40               334.40   \n",
       "\n",
       "             purchase_frequency  profit_margin  customer_value  \n",
       "Customer ID                                                     \n",
       "12346.00                   0.00        7755.65           13.19  \n",
       "12347.00                   0.00         563.33            0.96  \n",
       "12348.00                   0.00         201.94            0.34  \n",
       "12349.00                   0.00         442.87            0.75  \n",
       "12350.00                   0.00          33.44            0.06  "
      ]
     },
     "execution_count": 30,
     "metadata": {},
     "output_type": "execute_result"
    }
   ],
   "source": [
    "cltv_c.head()"
   ]
  },
  {
   "cell_type": "markdown",
   "id": "e99785b6",
   "metadata": {
    "papermill": {
     "duration": 0.012349,
     "end_time": "2023-06-09T21:49:37.427763",
     "exception": false,
     "start_time": "2023-06-09T21:49:37.415414",
     "status": "completed"
    },
    "tags": []
   },
   "source": [
    "# Customer Lifetime Value \n",
    "- **CLTV = (customer_value / churn_rate) x profit_margin**"
   ]
  },
  {
   "cell_type": "code",
   "execution_count": 31,
   "id": "f44b9384",
   "metadata": {
    "execution": {
     "iopub.execute_input": "2023-06-09T21:49:37.453646Z",
     "iopub.status.busy": "2023-06-09T21:49:37.453311Z",
     "iopub.status.idle": "2023-06-09T21:49:37.459054Z",
     "shell.execute_reply": "2023-06-09T21:49:37.457856Z"
    },
    "papermill": {
     "duration": 0.021532,
     "end_time": "2023-06-09T21:49:37.461614",
     "exception": false,
     "start_time": "2023-06-09T21:49:37.440082",
     "status": "completed"
    },
    "tags": []
   },
   "outputs": [],
   "source": [
    "cltv_c[\"cltv\"] = (cltv_c[\"customer_value\"] / churn_rate) * cltv_c[\"profit_margin\"]"
   ]
  },
  {
   "cell_type": "code",
   "execution_count": 32,
   "id": "da26c406",
   "metadata": {
    "execution": {
     "iopub.execute_input": "2023-06-09T21:49:37.487548Z",
     "iopub.status.busy": "2023-06-09T21:49:37.487186Z",
     "iopub.status.idle": "2023-06-09T21:49:37.498239Z",
     "shell.execute_reply": "2023-06-09T21:49:37.497001Z"
    },
    "papermill": {
     "duration": 0.026455,
     "end_time": "2023-06-09T21:49:37.500467",
     "exception": false,
     "start_time": "2023-06-09T21:49:37.474012",
     "status": "completed"
    },
    "tags": []
   },
   "outputs": [
    {
     "data": {
      "text/html": [
       "<div>\n",
       "<style scoped>\n",
       "    .dataframe tbody tr th:only-of-type {\n",
       "        vertical-align: middle;\n",
       "    }\n",
       "\n",
       "    .dataframe tbody tr th {\n",
       "        vertical-align: top;\n",
       "    }\n",
       "\n",
       "    .dataframe thead th {\n",
       "        text-align: right;\n",
       "    }\n",
       "</style>\n",
       "<table border=\"1\" class=\"dataframe\">\n",
       "  <thead>\n",
       "    <tr style=\"text-align: right;\">\n",
       "      <th></th>\n",
       "      <th>total_transaction</th>\n",
       "      <th>total_unit</th>\n",
       "      <th>total_price</th>\n",
       "      <th>average_order_value</th>\n",
       "      <th>purchase_frequency</th>\n",
       "      <th>profit_margin</th>\n",
       "      <th>customer_value</th>\n",
       "      <th>cltv</th>\n",
       "    </tr>\n",
       "    <tr>\n",
       "      <th>Customer ID</th>\n",
       "      <th></th>\n",
       "      <th></th>\n",
       "      <th></th>\n",
       "      <th></th>\n",
       "      <th></th>\n",
       "      <th></th>\n",
       "      <th></th>\n",
       "      <th></th>\n",
       "    </tr>\n",
       "  </thead>\n",
       "  <tbody>\n",
       "    <tr>\n",
       "      <th>12346.00</th>\n",
       "      <td>12</td>\n",
       "      <td>74285</td>\n",
       "      <td>77556.46</td>\n",
       "      <td>6463.04</td>\n",
       "      <td>0.00</td>\n",
       "      <td>7755.65</td>\n",
       "      <td>13.19</td>\n",
       "      <td>369926.48</td>\n",
       "    </tr>\n",
       "    <tr>\n",
       "      <th>12347.00</th>\n",
       "      <td>8</td>\n",
       "      <td>3286</td>\n",
       "      <td>5633.32</td>\n",
       "      <td>704.17</td>\n",
       "      <td>0.00</td>\n",
       "      <td>563.33</td>\n",
       "      <td>0.96</td>\n",
       "      <td>1951.68</td>\n",
       "    </tr>\n",
       "    <tr>\n",
       "      <th>12348.00</th>\n",
       "      <td>5</td>\n",
       "      <td>2714</td>\n",
       "      <td>2019.40</td>\n",
       "      <td>403.88</td>\n",
       "      <td>0.00</td>\n",
       "      <td>201.94</td>\n",
       "      <td>0.34</td>\n",
       "      <td>250.80</td>\n",
       "    </tr>\n",
       "    <tr>\n",
       "      <th>12349.00</th>\n",
       "      <td>4</td>\n",
       "      <td>1624</td>\n",
       "      <td>4428.69</td>\n",
       "      <td>1107.17</td>\n",
       "      <td>0.00</td>\n",
       "      <td>442.87</td>\n",
       "      <td>0.75</td>\n",
       "      <td>1206.23</td>\n",
       "    </tr>\n",
       "    <tr>\n",
       "      <th>12350.00</th>\n",
       "      <td>1</td>\n",
       "      <td>197</td>\n",
       "      <td>334.40</td>\n",
       "      <td>334.40</td>\n",
       "      <td>0.00</td>\n",
       "      <td>33.44</td>\n",
       "      <td>0.06</td>\n",
       "      <td>6.88</td>\n",
       "    </tr>\n",
       "  </tbody>\n",
       "</table>\n",
       "</div>"
      ],
      "text/plain": [
       "             total_transaction  total_unit  total_price  average_order_value  \\\n",
       "Customer ID                                                                    \n",
       "12346.00                    12       74285     77556.46              6463.04   \n",
       "12347.00                     8        3286      5633.32               704.17   \n",
       "12348.00                     5        2714      2019.40               403.88   \n",
       "12349.00                     4        1624      4428.69              1107.17   \n",
       "12350.00                     1         197       334.40               334.40   \n",
       "\n",
       "             purchase_frequency  profit_margin  customer_value      cltv  \n",
       "Customer ID                                                               \n",
       "12346.00                   0.00        7755.65           13.19 369926.48  \n",
       "12347.00                   0.00         563.33            0.96   1951.68  \n",
       "12348.00                   0.00         201.94            0.34    250.80  \n",
       "12349.00                   0.00         442.87            0.75   1206.23  \n",
       "12350.00                   0.00          33.44            0.06      6.88  "
      ]
     },
     "execution_count": 32,
     "metadata": {},
     "output_type": "execute_result"
    }
   ],
   "source": [
    "cltv_c.head()"
   ]
  },
  {
   "cell_type": "code",
   "execution_count": 33,
   "id": "987df042",
   "metadata": {
    "execution": {
     "iopub.execute_input": "2023-06-09T21:49:37.527923Z",
     "iopub.status.busy": "2023-06-09T21:49:37.527618Z",
     "iopub.status.idle": "2023-06-09T21:49:37.541804Z",
     "shell.execute_reply": "2023-06-09T21:49:37.540824Z"
    },
    "papermill": {
     "duration": 0.030606,
     "end_time": "2023-06-09T21:49:37.544160",
     "exception": false,
     "start_time": "2023-06-09T21:49:37.513554",
     "status": "completed"
    },
    "tags": []
   },
   "outputs": [
    {
     "data": {
      "text/html": [
       "<div>\n",
       "<style scoped>\n",
       "    .dataframe tbody tr th:only-of-type {\n",
       "        vertical-align: middle;\n",
       "    }\n",
       "\n",
       "    .dataframe tbody tr th {\n",
       "        vertical-align: top;\n",
       "    }\n",
       "\n",
       "    .dataframe thead th {\n",
       "        text-align: right;\n",
       "    }\n",
       "</style>\n",
       "<table border=\"1\" class=\"dataframe\">\n",
       "  <thead>\n",
       "    <tr style=\"text-align: right;\">\n",
       "      <th></th>\n",
       "      <th>total_transaction</th>\n",
       "      <th>total_unit</th>\n",
       "      <th>total_price</th>\n",
       "      <th>average_order_value</th>\n",
       "      <th>purchase_frequency</th>\n",
       "      <th>profit_margin</th>\n",
       "      <th>customer_value</th>\n",
       "      <th>cltv</th>\n",
       "    </tr>\n",
       "    <tr>\n",
       "      <th>Customer ID</th>\n",
       "      <th></th>\n",
       "      <th></th>\n",
       "      <th></th>\n",
       "      <th></th>\n",
       "      <th></th>\n",
       "      <th></th>\n",
       "      <th></th>\n",
       "      <th></th>\n",
       "    </tr>\n",
       "  </thead>\n",
       "  <tbody>\n",
       "    <tr>\n",
       "      <th>18102.00</th>\n",
       "      <td>145</td>\n",
       "      <td>188340</td>\n",
       "      <td>608821.65</td>\n",
       "      <td>4198.77</td>\n",
       "      <td>0.02</td>\n",
       "      <td>60882.17</td>\n",
       "      <td>103.52</td>\n",
       "      <td>22796051.75</td>\n",
       "    </tr>\n",
       "    <tr>\n",
       "      <th>14646.00</th>\n",
       "      <td>152</td>\n",
       "      <td>367833</td>\n",
       "      <td>528602.52</td>\n",
       "      <td>3477.65</td>\n",
       "      <td>0.03</td>\n",
       "      <td>52860.25</td>\n",
       "      <td>89.88</td>\n",
       "      <td>17184540.23</td>\n",
       "    </tr>\n",
       "    <tr>\n",
       "      <th>14156.00</th>\n",
       "      <td>156</td>\n",
       "      <td>165992</td>\n",
       "      <td>313946.37</td>\n",
       "      <td>2012.48</td>\n",
       "      <td>0.03</td>\n",
       "      <td>31394.64</td>\n",
       "      <td>53.38</td>\n",
       "      <td>6061643.50</td>\n",
       "    </tr>\n",
       "    <tr>\n",
       "      <th>14911.00</th>\n",
       "      <td>398</td>\n",
       "      <td>150237</td>\n",
       "      <td>295972.63</td>\n",
       "      <td>743.65</td>\n",
       "      <td>0.07</td>\n",
       "      <td>29597.26</td>\n",
       "      <td>50.33</td>\n",
       "      <td>5387441.43</td>\n",
       "    </tr>\n",
       "    <tr>\n",
       "      <th>17450.00</th>\n",
       "      <td>51</td>\n",
       "      <td>85368</td>\n",
       "      <td>246973.09</td>\n",
       "      <td>4842.61</td>\n",
       "      <td>0.01</td>\n",
       "      <td>24697.31</td>\n",
       "      <td>42.00</td>\n",
       "      <td>3751273.50</td>\n",
       "    </tr>\n",
       "    <tr>\n",
       "      <th>13694.00</th>\n",
       "      <td>143</td>\n",
       "      <td>189205</td>\n",
       "      <td>196482.81</td>\n",
       "      <td>1374.01</td>\n",
       "      <td>0.02</td>\n",
       "      <td>19648.28</td>\n",
       "      <td>33.41</td>\n",
       "      <td>2374261.66</td>\n",
       "    </tr>\n",
       "    <tr>\n",
       "      <th>17511.00</th>\n",
       "      <td>60</td>\n",
       "      <td>119656</td>\n",
       "      <td>175603.55</td>\n",
       "      <td>2926.73</td>\n",
       "      <td>0.01</td>\n",
       "      <td>17560.36</td>\n",
       "      <td>29.86</td>\n",
       "      <td>1896470.28</td>\n",
       "    </tr>\n",
       "    <tr>\n",
       "      <th>16446.00</th>\n",
       "      <td>2</td>\n",
       "      <td>80997</td>\n",
       "      <td>168472.50</td>\n",
       "      <td>84236.25</td>\n",
       "      <td>0.00</td>\n",
       "      <td>16847.25</td>\n",
       "      <td>28.65</td>\n",
       "      <td>1745570.93</td>\n",
       "    </tr>\n",
       "    <tr>\n",
       "      <th>16684.00</th>\n",
       "      <td>55</td>\n",
       "      <td>104810</td>\n",
       "      <td>147142.77</td>\n",
       "      <td>2675.32</td>\n",
       "      <td>0.01</td>\n",
       "      <td>14714.28</td>\n",
       "      <td>25.02</td>\n",
       "      <td>1331549.49</td>\n",
       "    </tr>\n",
       "    <tr>\n",
       "      <th>12415.00</th>\n",
       "      <td>28</td>\n",
       "      <td>91743</td>\n",
       "      <td>144458.37</td>\n",
       "      <td>5159.23</td>\n",
       "      <td>0.00</td>\n",
       "      <td>14445.84</td>\n",
       "      <td>24.56</td>\n",
       "      <td>1283408.40</td>\n",
       "    </tr>\n",
       "    <tr>\n",
       "      <th>15061.00</th>\n",
       "      <td>127</td>\n",
       "      <td>80711</td>\n",
       "      <td>137818.52</td>\n",
       "      <td>1085.19</td>\n",
       "      <td>0.02</td>\n",
       "      <td>13781.85</td>\n",
       "      <td>23.43</td>\n",
       "      <td>1168139.27</td>\n",
       "    </tr>\n",
       "    <tr>\n",
       "      <th>16029.00</th>\n",
       "      <td>107</td>\n",
       "      <td>56486</td>\n",
       "      <td>122209.14</td>\n",
       "      <td>1142.14</td>\n",
       "      <td>0.02</td>\n",
       "      <td>12220.91</td>\n",
       "      <td>20.78</td>\n",
       "      <td>918516.23</td>\n",
       "    </tr>\n",
       "    <tr>\n",
       "      <th>17949.00</th>\n",
       "      <td>118</td>\n",
       "      <td>60658</td>\n",
       "      <td>118628.08</td>\n",
       "      <td>1005.32</td>\n",
       "      <td>0.02</td>\n",
       "      <td>11862.81</td>\n",
       "      <td>20.17</td>\n",
       "      <td>865474.87</td>\n",
       "    </tr>\n",
       "    <tr>\n",
       "      <th>15311.00</th>\n",
       "      <td>208</td>\n",
       "      <td>71010</td>\n",
       "      <td>116771.16</td>\n",
       "      <td>561.40</td>\n",
       "      <td>0.04</td>\n",
       "      <td>11677.12</td>\n",
       "      <td>19.86</td>\n",
       "      <td>838591.87</td>\n",
       "    </tr>\n",
       "    <tr>\n",
       "      <th>13089.00</th>\n",
       "      <td>203</td>\n",
       "      <td>60234</td>\n",
       "      <td>116737.86</td>\n",
       "      <td>575.06</td>\n",
       "      <td>0.03</td>\n",
       "      <td>11673.79</td>\n",
       "      <td>19.85</td>\n",
       "      <td>838113.65</td>\n",
       "    </tr>\n",
       "    <tr>\n",
       "      <th>12931.00</th>\n",
       "      <td>57</td>\n",
       "      <td>62906</td>\n",
       "      <td>92347.34</td>\n",
       "      <td>1620.13</td>\n",
       "      <td>0.01</td>\n",
       "      <td>9234.73</td>\n",
       "      <td>15.70</td>\n",
       "      <td>524479.16</td>\n",
       "    </tr>\n",
       "    <tr>\n",
       "      <th>14298.00</th>\n",
       "      <td>82</td>\n",
       "      <td>100272</td>\n",
       "      <td>91194.49</td>\n",
       "      <td>1112.13</td>\n",
       "      <td>0.01</td>\n",
       "      <td>9119.45</td>\n",
       "      <td>15.51</td>\n",
       "      <td>511465.87</td>\n",
       "    </tr>\n",
       "    <tr>\n",
       "      <th>15769.00</th>\n",
       "      <td>46</td>\n",
       "      <td>49104</td>\n",
       "      <td>88704.32</td>\n",
       "      <td>1928.35</td>\n",
       "      <td>0.01</td>\n",
       "      <td>8870.43</td>\n",
       "      <td>15.08</td>\n",
       "      <td>483914.91</td>\n",
       "    </tr>\n",
       "    <tr>\n",
       "      <th>12346.00</th>\n",
       "      <td>12</td>\n",
       "      <td>74285</td>\n",
       "      <td>77556.46</td>\n",
       "      <td>6463.04</td>\n",
       "      <td>0.00</td>\n",
       "      <td>7755.65</td>\n",
       "      <td>13.19</td>\n",
       "      <td>369926.48</td>\n",
       "    </tr>\n",
       "    <tr>\n",
       "      <th>13798.00</th>\n",
       "      <td>110</td>\n",
       "      <td>48347</td>\n",
       "      <td>75836.87</td>\n",
       "      <td>689.43</td>\n",
       "      <td>0.02</td>\n",
       "      <td>7583.69</td>\n",
       "      <td>12.90</td>\n",
       "      <td>353704.23</td>\n",
       "    </tr>\n",
       "  </tbody>\n",
       "</table>\n",
       "</div>"
      ],
      "text/plain": [
       "             total_transaction  total_unit  total_price  average_order_value  \\\n",
       "Customer ID                                                                    \n",
       "18102.00                   145      188340    608821.65              4198.77   \n",
       "14646.00                   152      367833    528602.52              3477.65   \n",
       "14156.00                   156      165992    313946.37              2012.48   \n",
       "14911.00                   398      150237    295972.63               743.65   \n",
       "17450.00                    51       85368    246973.09              4842.61   \n",
       "13694.00                   143      189205    196482.81              1374.01   \n",
       "17511.00                    60      119656    175603.55              2926.73   \n",
       "16446.00                     2       80997    168472.50             84236.25   \n",
       "16684.00                    55      104810    147142.77              2675.32   \n",
       "12415.00                    28       91743    144458.37              5159.23   \n",
       "15061.00                   127       80711    137818.52              1085.19   \n",
       "16029.00                   107       56486    122209.14              1142.14   \n",
       "17949.00                   118       60658    118628.08              1005.32   \n",
       "15311.00                   208       71010    116771.16               561.40   \n",
       "13089.00                   203       60234    116737.86               575.06   \n",
       "12931.00                    57       62906     92347.34              1620.13   \n",
       "14298.00                    82      100272     91194.49              1112.13   \n",
       "15769.00                    46       49104     88704.32              1928.35   \n",
       "12346.00                    12       74285     77556.46              6463.04   \n",
       "13798.00                   110       48347     75836.87               689.43   \n",
       "\n",
       "             purchase_frequency  profit_margin  customer_value        cltv  \n",
       "Customer ID                                                                 \n",
       "18102.00                   0.02       60882.17          103.52 22796051.75  \n",
       "14646.00                   0.03       52860.25           89.88 17184540.23  \n",
       "14156.00                   0.03       31394.64           53.38  6061643.50  \n",
       "14911.00                   0.07       29597.26           50.33  5387441.43  \n",
       "17450.00                   0.01       24697.31           42.00  3751273.50  \n",
       "13694.00                   0.02       19648.28           33.41  2374261.66  \n",
       "17511.00                   0.01       17560.36           29.86  1896470.28  \n",
       "16446.00                   0.00       16847.25           28.65  1745570.93  \n",
       "16684.00                   0.01       14714.28           25.02  1331549.49  \n",
       "12415.00                   0.00       14445.84           24.56  1283408.40  \n",
       "15061.00                   0.02       13781.85           23.43  1168139.27  \n",
       "16029.00                   0.02       12220.91           20.78   918516.23  \n",
       "17949.00                   0.02       11862.81           20.17   865474.87  \n",
       "15311.00                   0.04       11677.12           19.86   838591.87  \n",
       "13089.00                   0.03       11673.79           19.85   838113.65  \n",
       "12931.00                   0.01        9234.73           15.70   524479.16  \n",
       "14298.00                   0.01        9119.45           15.51   511465.87  \n",
       "15769.00                   0.01        8870.43           15.08   483914.91  \n",
       "12346.00                   0.00        7755.65           13.19   369926.48  \n",
       "13798.00                   0.02        7583.69           12.90   353704.23  "
      ]
     },
     "execution_count": 33,
     "metadata": {},
     "output_type": "execute_result"
    }
   ],
   "source": [
    "cltv_c.sort_values(by=\"cltv\", ascending=False).head(20)"
   ]
  },
  {
   "cell_type": "markdown",
   "id": "4fd95422",
   "metadata": {
    "papermill": {
     "duration": 0.012154,
     "end_time": "2023-06-09T21:49:37.569223",
     "exception": false,
     "start_time": "2023-06-09T21:49:37.557069",
     "status": "completed"
    },
    "tags": []
   },
   "source": [
    "# Creating segment Variable"
   ]
  },
  {
   "cell_type": "code",
   "execution_count": 34,
   "id": "c1919485",
   "metadata": {
    "execution": {
     "iopub.execute_input": "2023-06-09T21:49:37.596611Z",
     "iopub.status.busy": "2023-06-09T21:49:37.596226Z",
     "iopub.status.idle": "2023-06-09T21:49:37.605712Z",
     "shell.execute_reply": "2023-06-09T21:49:37.604697Z"
    },
    "papermill": {
     "duration": 0.025686,
     "end_time": "2023-06-09T21:49:37.607601",
     "exception": false,
     "start_time": "2023-06-09T21:49:37.581915",
     "status": "completed"
    },
    "tags": []
   },
   "outputs": [],
   "source": [
    "cltv_c[\"segment\"] = pd.qcut(cltv_c[\"cltv\"], 4, labels=[\"D\", \"C\", \"B\", \"A\"])"
   ]
  },
  {
   "cell_type": "code",
   "execution_count": 35,
   "id": "5eae8ab7",
   "metadata": {
    "execution": {
     "iopub.execute_input": "2023-06-09T21:49:37.635035Z",
     "iopub.status.busy": "2023-06-09T21:49:37.634706Z",
     "iopub.status.idle": "2023-06-09T21:49:37.646708Z",
     "shell.execute_reply": "2023-06-09T21:49:37.645974Z"
    },
    "papermill": {
     "duration": 0.028455,
     "end_time": "2023-06-09T21:49:37.649032",
     "exception": false,
     "start_time": "2023-06-09T21:49:37.620577",
     "status": "completed"
    },
    "tags": []
   },
   "outputs": [
    {
     "data": {
      "text/html": [
       "<div>\n",
       "<style scoped>\n",
       "    .dataframe tbody tr th:only-of-type {\n",
       "        vertical-align: middle;\n",
       "    }\n",
       "\n",
       "    .dataframe tbody tr th {\n",
       "        vertical-align: top;\n",
       "    }\n",
       "\n",
       "    .dataframe thead th {\n",
       "        text-align: right;\n",
       "    }\n",
       "</style>\n",
       "<table border=\"1\" class=\"dataframe\">\n",
       "  <thead>\n",
       "    <tr style=\"text-align: right;\">\n",
       "      <th></th>\n",
       "      <th>total_transaction</th>\n",
       "      <th>total_unit</th>\n",
       "      <th>total_price</th>\n",
       "      <th>average_order_value</th>\n",
       "      <th>purchase_frequency</th>\n",
       "      <th>profit_margin</th>\n",
       "      <th>customer_value</th>\n",
       "      <th>cltv</th>\n",
       "      <th>segment</th>\n",
       "    </tr>\n",
       "    <tr>\n",
       "      <th>Customer ID</th>\n",
       "      <th></th>\n",
       "      <th></th>\n",
       "      <th></th>\n",
       "      <th></th>\n",
       "      <th></th>\n",
       "      <th></th>\n",
       "      <th></th>\n",
       "      <th></th>\n",
       "      <th></th>\n",
       "    </tr>\n",
       "  </thead>\n",
       "  <tbody>\n",
       "    <tr>\n",
       "      <th>12346.00</th>\n",
       "      <td>12</td>\n",
       "      <td>74285</td>\n",
       "      <td>77556.46</td>\n",
       "      <td>6463.04</td>\n",
       "      <td>0.00</td>\n",
       "      <td>7755.65</td>\n",
       "      <td>13.19</td>\n",
       "      <td>369926.48</td>\n",
       "      <td>A</td>\n",
       "    </tr>\n",
       "    <tr>\n",
       "      <th>12347.00</th>\n",
       "      <td>8</td>\n",
       "      <td>3286</td>\n",
       "      <td>5633.32</td>\n",
       "      <td>704.17</td>\n",
       "      <td>0.00</td>\n",
       "      <td>563.33</td>\n",
       "      <td>0.96</td>\n",
       "      <td>1951.68</td>\n",
       "      <td>A</td>\n",
       "    </tr>\n",
       "    <tr>\n",
       "      <th>12348.00</th>\n",
       "      <td>5</td>\n",
       "      <td>2714</td>\n",
       "      <td>2019.40</td>\n",
       "      <td>403.88</td>\n",
       "      <td>0.00</td>\n",
       "      <td>201.94</td>\n",
       "      <td>0.34</td>\n",
       "      <td>250.80</td>\n",
       "      <td>B</td>\n",
       "    </tr>\n",
       "    <tr>\n",
       "      <th>12349.00</th>\n",
       "      <td>4</td>\n",
       "      <td>1624</td>\n",
       "      <td>4428.69</td>\n",
       "      <td>1107.17</td>\n",
       "      <td>0.00</td>\n",
       "      <td>442.87</td>\n",
       "      <td>0.75</td>\n",
       "      <td>1206.23</td>\n",
       "      <td>A</td>\n",
       "    </tr>\n",
       "    <tr>\n",
       "      <th>12350.00</th>\n",
       "      <td>1</td>\n",
       "      <td>197</td>\n",
       "      <td>334.40</td>\n",
       "      <td>334.40</td>\n",
       "      <td>0.00</td>\n",
       "      <td>33.44</td>\n",
       "      <td>0.06</td>\n",
       "      <td>6.88</td>\n",
       "      <td>D</td>\n",
       "    </tr>\n",
       "    <tr>\n",
       "      <th>12351.00</th>\n",
       "      <td>1</td>\n",
       "      <td>261</td>\n",
       "      <td>300.93</td>\n",
       "      <td>300.93</td>\n",
       "      <td>0.00</td>\n",
       "      <td>30.09</td>\n",
       "      <td>0.05</td>\n",
       "      <td>5.57</td>\n",
       "      <td>D</td>\n",
       "    </tr>\n",
       "    <tr>\n",
       "      <th>12352.00</th>\n",
       "      <td>10</td>\n",
       "      <td>724</td>\n",
       "      <td>2849.84</td>\n",
       "      <td>284.98</td>\n",
       "      <td>0.00</td>\n",
       "      <td>284.98</td>\n",
       "      <td>0.48</td>\n",
       "      <td>499.48</td>\n",
       "      <td>A</td>\n",
       "    </tr>\n",
       "    <tr>\n",
       "      <th>12353.00</th>\n",
       "      <td>2</td>\n",
       "      <td>212</td>\n",
       "      <td>406.76</td>\n",
       "      <td>203.38</td>\n",
       "      <td>0.00</td>\n",
       "      <td>40.68</td>\n",
       "      <td>0.07</td>\n",
       "      <td>10.18</td>\n",
       "      <td>C</td>\n",
       "    </tr>\n",
       "    <tr>\n",
       "      <th>12354.00</th>\n",
       "      <td>1</td>\n",
       "      <td>530</td>\n",
       "      <td>1079.40</td>\n",
       "      <td>1079.40</td>\n",
       "      <td>0.00</td>\n",
       "      <td>107.94</td>\n",
       "      <td>0.18</td>\n",
       "      <td>71.65</td>\n",
       "      <td>B</td>\n",
       "    </tr>\n",
       "    <tr>\n",
       "      <th>12355.00</th>\n",
       "      <td>2</td>\n",
       "      <td>543</td>\n",
       "      <td>947.61</td>\n",
       "      <td>473.80</td>\n",
       "      <td>0.00</td>\n",
       "      <td>94.76</td>\n",
       "      <td>0.16</td>\n",
       "      <td>55.23</td>\n",
       "      <td>B</td>\n",
       "    </tr>\n",
       "  </tbody>\n",
       "</table>\n",
       "</div>"
      ],
      "text/plain": [
       "             total_transaction  total_unit  total_price  average_order_value  \\\n",
       "Customer ID                                                                    \n",
       "12346.00                    12       74285     77556.46              6463.04   \n",
       "12347.00                     8        3286      5633.32               704.17   \n",
       "12348.00                     5        2714      2019.40               403.88   \n",
       "12349.00                     4        1624      4428.69              1107.17   \n",
       "12350.00                     1         197       334.40               334.40   \n",
       "12351.00                     1         261       300.93               300.93   \n",
       "12352.00                    10         724      2849.84               284.98   \n",
       "12353.00                     2         212       406.76               203.38   \n",
       "12354.00                     1         530      1079.40              1079.40   \n",
       "12355.00                     2         543       947.61               473.80   \n",
       "\n",
       "             purchase_frequency  profit_margin  customer_value      cltv  \\\n",
       "Customer ID                                                                \n",
       "12346.00                   0.00        7755.65           13.19 369926.48   \n",
       "12347.00                   0.00         563.33            0.96   1951.68   \n",
       "12348.00                   0.00         201.94            0.34    250.80   \n",
       "12349.00                   0.00         442.87            0.75   1206.23   \n",
       "12350.00                   0.00          33.44            0.06      6.88   \n",
       "12351.00                   0.00          30.09            0.05      5.57   \n",
       "12352.00                   0.00         284.98            0.48    499.48   \n",
       "12353.00                   0.00          40.68            0.07     10.18   \n",
       "12354.00                   0.00         107.94            0.18     71.65   \n",
       "12355.00                   0.00          94.76            0.16     55.23   \n",
       "\n",
       "            segment  \n",
       "Customer ID          \n",
       "12346.00          A  \n",
       "12347.00          A  \n",
       "12348.00          B  \n",
       "12349.00          A  \n",
       "12350.00          D  \n",
       "12351.00          D  \n",
       "12352.00          A  \n",
       "12353.00          C  \n",
       "12354.00          B  \n",
       "12355.00          B  "
      ]
     },
     "execution_count": 35,
     "metadata": {},
     "output_type": "execute_result"
    }
   ],
   "source": [
    "cltv_c.head(10)"
   ]
  },
  {
   "cell_type": "code",
   "execution_count": 36,
   "id": "a8a9b1c4",
   "metadata": {
    "execution": {
     "iopub.execute_input": "2023-06-09T21:49:37.676799Z",
     "iopub.status.busy": "2023-06-09T21:49:37.676259Z",
     "iopub.status.idle": "2023-06-09T21:49:37.689248Z",
     "shell.execute_reply": "2023-06-09T21:49:37.688673Z"
    },
    "papermill": {
     "duration": 0.028295,
     "end_time": "2023-06-09T21:49:37.690911",
     "exception": false,
     "start_time": "2023-06-09T21:49:37.662616",
     "status": "completed"
    },
    "tags": []
   },
   "outputs": [
    {
     "data": {
      "text/html": [
       "<div>\n",
       "<style scoped>\n",
       "    .dataframe tbody tr th:only-of-type {\n",
       "        vertical-align: middle;\n",
       "    }\n",
       "\n",
       "    .dataframe tbody tr th {\n",
       "        vertical-align: top;\n",
       "    }\n",
       "\n",
       "    .dataframe thead th {\n",
       "        text-align: right;\n",
       "    }\n",
       "</style>\n",
       "<table border=\"1\" class=\"dataframe\">\n",
       "  <thead>\n",
       "    <tr style=\"text-align: right;\">\n",
       "      <th></th>\n",
       "      <th>total_transaction</th>\n",
       "      <th>total_unit</th>\n",
       "      <th>total_price</th>\n",
       "      <th>average_order_value</th>\n",
       "      <th>purchase_frequency</th>\n",
       "      <th>profit_margin</th>\n",
       "      <th>customer_value</th>\n",
       "      <th>cltv</th>\n",
       "      <th>segment</th>\n",
       "    </tr>\n",
       "    <tr>\n",
       "      <th>Customer ID</th>\n",
       "      <th></th>\n",
       "      <th></th>\n",
       "      <th></th>\n",
       "      <th></th>\n",
       "      <th></th>\n",
       "      <th></th>\n",
       "      <th></th>\n",
       "      <th></th>\n",
       "      <th></th>\n",
       "    </tr>\n",
       "  </thead>\n",
       "  <tbody>\n",
       "    <tr>\n",
       "      <th>18102.00</th>\n",
       "      <td>145</td>\n",
       "      <td>188340</td>\n",
       "      <td>608821.65</td>\n",
       "      <td>4198.77</td>\n",
       "      <td>0.02</td>\n",
       "      <td>60882.17</td>\n",
       "      <td>103.52</td>\n",
       "      <td>22796051.75</td>\n",
       "      <td>A</td>\n",
       "    </tr>\n",
       "    <tr>\n",
       "      <th>14646.00</th>\n",
       "      <td>152</td>\n",
       "      <td>367833</td>\n",
       "      <td>528602.52</td>\n",
       "      <td>3477.65</td>\n",
       "      <td>0.03</td>\n",
       "      <td>52860.25</td>\n",
       "      <td>89.88</td>\n",
       "      <td>17184540.23</td>\n",
       "      <td>A</td>\n",
       "    </tr>\n",
       "    <tr>\n",
       "      <th>14156.00</th>\n",
       "      <td>156</td>\n",
       "      <td>165992</td>\n",
       "      <td>313946.37</td>\n",
       "      <td>2012.48</td>\n",
       "      <td>0.03</td>\n",
       "      <td>31394.64</td>\n",
       "      <td>53.38</td>\n",
       "      <td>6061643.50</td>\n",
       "      <td>A</td>\n",
       "    </tr>\n",
       "    <tr>\n",
       "      <th>14911.00</th>\n",
       "      <td>398</td>\n",
       "      <td>150237</td>\n",
       "      <td>295972.63</td>\n",
       "      <td>743.65</td>\n",
       "      <td>0.07</td>\n",
       "      <td>29597.26</td>\n",
       "      <td>50.33</td>\n",
       "      <td>5387441.43</td>\n",
       "      <td>A</td>\n",
       "    </tr>\n",
       "    <tr>\n",
       "      <th>17450.00</th>\n",
       "      <td>51</td>\n",
       "      <td>85368</td>\n",
       "      <td>246973.09</td>\n",
       "      <td>4842.61</td>\n",
       "      <td>0.01</td>\n",
       "      <td>24697.31</td>\n",
       "      <td>42.00</td>\n",
       "      <td>3751273.50</td>\n",
       "      <td>A</td>\n",
       "    </tr>\n",
       "    <tr>\n",
       "      <th>13694.00</th>\n",
       "      <td>143</td>\n",
       "      <td>189205</td>\n",
       "      <td>196482.81</td>\n",
       "      <td>1374.01</td>\n",
       "      <td>0.02</td>\n",
       "      <td>19648.28</td>\n",
       "      <td>33.41</td>\n",
       "      <td>2374261.66</td>\n",
       "      <td>A</td>\n",
       "    </tr>\n",
       "    <tr>\n",
       "      <th>17511.00</th>\n",
       "      <td>60</td>\n",
       "      <td>119656</td>\n",
       "      <td>175603.55</td>\n",
       "      <td>2926.73</td>\n",
       "      <td>0.01</td>\n",
       "      <td>17560.36</td>\n",
       "      <td>29.86</td>\n",
       "      <td>1896470.28</td>\n",
       "      <td>A</td>\n",
       "    </tr>\n",
       "    <tr>\n",
       "      <th>16446.00</th>\n",
       "      <td>2</td>\n",
       "      <td>80997</td>\n",
       "      <td>168472.50</td>\n",
       "      <td>84236.25</td>\n",
       "      <td>0.00</td>\n",
       "      <td>16847.25</td>\n",
       "      <td>28.65</td>\n",
       "      <td>1745570.93</td>\n",
       "      <td>A</td>\n",
       "    </tr>\n",
       "    <tr>\n",
       "      <th>16684.00</th>\n",
       "      <td>55</td>\n",
       "      <td>104810</td>\n",
       "      <td>147142.77</td>\n",
       "      <td>2675.32</td>\n",
       "      <td>0.01</td>\n",
       "      <td>14714.28</td>\n",
       "      <td>25.02</td>\n",
       "      <td>1331549.49</td>\n",
       "      <td>A</td>\n",
       "    </tr>\n",
       "    <tr>\n",
       "      <th>12415.00</th>\n",
       "      <td>28</td>\n",
       "      <td>91743</td>\n",
       "      <td>144458.37</td>\n",
       "      <td>5159.23</td>\n",
       "      <td>0.00</td>\n",
       "      <td>14445.84</td>\n",
       "      <td>24.56</td>\n",
       "      <td>1283408.40</td>\n",
       "      <td>A</td>\n",
       "    </tr>\n",
       "  </tbody>\n",
       "</table>\n",
       "</div>"
      ],
      "text/plain": [
       "             total_transaction  total_unit  total_price  average_order_value  \\\n",
       "Customer ID                                                                    \n",
       "18102.00                   145      188340    608821.65              4198.77   \n",
       "14646.00                   152      367833    528602.52              3477.65   \n",
       "14156.00                   156      165992    313946.37              2012.48   \n",
       "14911.00                   398      150237    295972.63               743.65   \n",
       "17450.00                    51       85368    246973.09              4842.61   \n",
       "13694.00                   143      189205    196482.81              1374.01   \n",
       "17511.00                    60      119656    175603.55              2926.73   \n",
       "16446.00                     2       80997    168472.50             84236.25   \n",
       "16684.00                    55      104810    147142.77              2675.32   \n",
       "12415.00                    28       91743    144458.37              5159.23   \n",
       "\n",
       "             purchase_frequency  profit_margin  customer_value        cltv  \\\n",
       "Customer ID                                                                  \n",
       "18102.00                   0.02       60882.17          103.52 22796051.75   \n",
       "14646.00                   0.03       52860.25           89.88 17184540.23   \n",
       "14156.00                   0.03       31394.64           53.38  6061643.50   \n",
       "14911.00                   0.07       29597.26           50.33  5387441.43   \n",
       "17450.00                   0.01       24697.31           42.00  3751273.50   \n",
       "13694.00                   0.02       19648.28           33.41  2374261.66   \n",
       "17511.00                   0.01       17560.36           29.86  1896470.28   \n",
       "16446.00                   0.00       16847.25           28.65  1745570.93   \n",
       "16684.00                   0.01       14714.28           25.02  1331549.49   \n",
       "12415.00                   0.00       14445.84           24.56  1283408.40   \n",
       "\n",
       "            segment  \n",
       "Customer ID          \n",
       "18102.00          A  \n",
       "14646.00          A  \n",
       "14156.00          A  \n",
       "14911.00          A  \n",
       "17450.00          A  \n",
       "13694.00          A  \n",
       "17511.00          A  \n",
       "16446.00          A  \n",
       "16684.00          A  \n",
       "12415.00          A  "
      ]
     },
     "execution_count": 36,
     "metadata": {},
     "output_type": "execute_result"
    }
   ],
   "source": [
    "cltv_c.sort_values(by=\"cltv\", ascending=False).head(10)"
   ]
  },
  {
   "cell_type": "code",
   "execution_count": 37,
   "id": "542f66d5",
   "metadata": {
    "execution": {
     "iopub.execute_input": "2023-06-09T21:49:37.718964Z",
     "iopub.status.busy": "2023-06-09T21:49:37.718619Z",
     "iopub.status.idle": "2023-06-09T21:49:37.755820Z",
     "shell.execute_reply": "2023-06-09T21:49:37.755118Z"
    },
    "papermill": {
     "duration": 0.053426,
     "end_time": "2023-06-09T21:49:37.757748",
     "exception": false,
     "start_time": "2023-06-09T21:49:37.704322",
     "status": "completed"
    },
    "tags": []
   },
   "outputs": [
    {
     "data": {
      "text/html": [
       "<div>\n",
       "<style scoped>\n",
       "    .dataframe tbody tr th:only-of-type {\n",
       "        vertical-align: middle;\n",
       "    }\n",
       "\n",
       "    .dataframe tbody tr th {\n",
       "        vertical-align: top;\n",
       "    }\n",
       "\n",
       "    .dataframe thead tr th {\n",
       "        text-align: left;\n",
       "    }\n",
       "\n",
       "    .dataframe thead tr:last-of-type th {\n",
       "        text-align: right;\n",
       "    }\n",
       "</style>\n",
       "<table border=\"1\" class=\"dataframe\">\n",
       "  <thead>\n",
       "    <tr>\n",
       "      <th></th>\n",
       "      <th colspan=\"3\" halign=\"left\">total_transaction</th>\n",
       "      <th colspan=\"3\" halign=\"left\">total_unit</th>\n",
       "      <th colspan=\"3\" halign=\"left\">total_price</th>\n",
       "      <th colspan=\"3\" halign=\"left\">average_order_value</th>\n",
       "      <th colspan=\"3\" halign=\"left\">purchase_frequency</th>\n",
       "      <th colspan=\"3\" halign=\"left\">profit_margin</th>\n",
       "      <th colspan=\"3\" halign=\"left\">customer_value</th>\n",
       "      <th colspan=\"3\" halign=\"left\">cltv</th>\n",
       "    </tr>\n",
       "    <tr>\n",
       "      <th></th>\n",
       "      <th>count</th>\n",
       "      <th>sum</th>\n",
       "      <th>mean</th>\n",
       "      <th>count</th>\n",
       "      <th>sum</th>\n",
       "      <th>mean</th>\n",
       "      <th>count</th>\n",
       "      <th>sum</th>\n",
       "      <th>mean</th>\n",
       "      <th>count</th>\n",
       "      <th>sum</th>\n",
       "      <th>mean</th>\n",
       "      <th>count</th>\n",
       "      <th>sum</th>\n",
       "      <th>mean</th>\n",
       "      <th>count</th>\n",
       "      <th>sum</th>\n",
       "      <th>mean</th>\n",
       "      <th>count</th>\n",
       "      <th>sum</th>\n",
       "      <th>mean</th>\n",
       "      <th>count</th>\n",
       "      <th>sum</th>\n",
       "      <th>mean</th>\n",
       "    </tr>\n",
       "    <tr>\n",
       "      <th>segment</th>\n",
       "      <th></th>\n",
       "      <th></th>\n",
       "      <th></th>\n",
       "      <th></th>\n",
       "      <th></th>\n",
       "      <th></th>\n",
       "      <th></th>\n",
       "      <th></th>\n",
       "      <th></th>\n",
       "      <th></th>\n",
       "      <th></th>\n",
       "      <th></th>\n",
       "      <th></th>\n",
       "      <th></th>\n",
       "      <th></th>\n",
       "      <th></th>\n",
       "      <th></th>\n",
       "      <th></th>\n",
       "      <th></th>\n",
       "      <th></th>\n",
       "      <th></th>\n",
       "      <th></th>\n",
       "      <th></th>\n",
       "      <th></th>\n",
       "    </tr>\n",
       "  </thead>\n",
       "  <tbody>\n",
       "    <tr>\n",
       "      <th>D</th>\n",
       "      <td>1471</td>\n",
       "      <td>1911</td>\n",
       "      <td>1.30</td>\n",
       "      <td>1471</td>\n",
       "      <td>199258</td>\n",
       "      <td>135.46</td>\n",
       "      <td>1471</td>\n",
       "      <td>286503.06</td>\n",
       "      <td>194.77</td>\n",
       "      <td>1471</td>\n",
       "      <td>243467.99</td>\n",
       "      <td>165.51</td>\n",
       "      <td>1471</td>\n",
       "      <td>0.32</td>\n",
       "      <td>0.00</td>\n",
       "      <td>1471</td>\n",
       "      <td>28650.31</td>\n",
       "      <td>19.48</td>\n",
       "      <td>1471</td>\n",
       "      <td>48.72</td>\n",
       "      <td>0.03</td>\n",
       "      <td>1471</td>\n",
       "      <td>4124.37</td>\n",
       "      <td>2.80</td>\n",
       "    </tr>\n",
       "    <tr>\n",
       "      <th>C</th>\n",
       "      <td>1470</td>\n",
       "      <td>3643</td>\n",
       "      <td>2.48</td>\n",
       "      <td>1470</td>\n",
       "      <td>505745</td>\n",
       "      <td>344.04</td>\n",
       "      <td>1470</td>\n",
       "      <td>852347.92</td>\n",
       "      <td>579.83</td>\n",
       "      <td>1470</td>\n",
       "      <td>437562.15</td>\n",
       "      <td>297.66</td>\n",
       "      <td>1470</td>\n",
       "      <td>0.62</td>\n",
       "      <td>0.00</td>\n",
       "      <td>1470</td>\n",
       "      <td>85234.79</td>\n",
       "      <td>57.98</td>\n",
       "      <td>1470</td>\n",
       "      <td>144.93</td>\n",
       "      <td>0.10</td>\n",
       "      <td>1470</td>\n",
       "      <td>32689.17</td>\n",
       "      <td>22.24</td>\n",
       "    </tr>\n",
       "    <tr>\n",
       "      <th>B</th>\n",
       "      <td>1470</td>\n",
       "      <td>7014</td>\n",
       "      <td>4.77</td>\n",
       "      <td>1470</td>\n",
       "      <td>1299830</td>\n",
       "      <td>884.24</td>\n",
       "      <td>1470</td>\n",
       "      <td>2124449.83</td>\n",
       "      <td>1445.20</td>\n",
       "      <td>1470</td>\n",
       "      <td>584790.16</td>\n",
       "      <td>397.82</td>\n",
       "      <td>1470</td>\n",
       "      <td>1.19</td>\n",
       "      <td>0.00</td>\n",
       "      <td>1470</td>\n",
       "      <td>212444.98</td>\n",
       "      <td>144.52</td>\n",
       "      <td>1470</td>\n",
       "      <td>361.24</td>\n",
       "      <td>0.25</td>\n",
       "      <td>1470</td>\n",
       "      <td>203222.90</td>\n",
       "      <td>138.25</td>\n",
       "    </tr>\n",
       "    <tr>\n",
       "      <th>A</th>\n",
       "      <td>1470</td>\n",
       "      <td>24407</td>\n",
       "      <td>16.60</td>\n",
       "      <td>1470</td>\n",
       "      <td>8716088</td>\n",
       "      <td>5929.31</td>\n",
       "      <td>1470</td>\n",
       "      <td>14480128.36</td>\n",
       "      <td>9850.43</td>\n",
       "      <td>1470</td>\n",
       "      <td>1036698.43</td>\n",
       "      <td>705.24</td>\n",
       "      <td>1470</td>\n",
       "      <td>4.15</td>\n",
       "      <td>0.00</td>\n",
       "      <td>1470</td>\n",
       "      <td>1448012.84</td>\n",
       "      <td>985.04</td>\n",
       "      <td>1470</td>\n",
       "      <td>2462.19</td>\n",
       "      <td>1.67</td>\n",
       "      <td>1470</td>\n",
       "      <td>81558808.67</td>\n",
       "      <td>55482.18</td>\n",
       "    </tr>\n",
       "  </tbody>\n",
       "</table>\n",
       "</div>"
      ],
      "text/plain": [
       "        total_transaction              total_unit                   \\\n",
       "                    count    sum  mean      count      sum    mean   \n",
       "segment                                                              \n",
       "D                    1471   1911  1.30       1471   199258  135.46   \n",
       "C                    1470   3643  2.48       1470   505745  344.04   \n",
       "B                    1470   7014  4.77       1470  1299830  884.24   \n",
       "A                    1470  24407 16.60       1470  8716088 5929.31   \n",
       "\n",
       "        total_price                     average_order_value                    \\\n",
       "              count         sum    mean               count        sum   mean   \n",
       "segment                                                                         \n",
       "D              1471   286503.06  194.77                1471  243467.99 165.51   \n",
       "C              1470   852347.92  579.83                1470  437562.15 297.66   \n",
       "B              1470  2124449.83 1445.20                1470  584790.16 397.82   \n",
       "A              1470 14480128.36 9850.43                1470 1036698.43 705.24   \n",
       "\n",
       "        purchase_frequency           profit_margin                    \\\n",
       "                     count  sum mean         count        sum   mean   \n",
       "segment                                                                \n",
       "D                     1471 0.32 0.00          1471   28650.31  19.48   \n",
       "C                     1470 0.62 0.00          1470   85234.79  57.98   \n",
       "B                     1470 1.19 0.00          1470  212444.98 144.52   \n",
       "A                     1470 4.15 0.00          1470 1448012.84 985.04   \n",
       "\n",
       "        customer_value               cltv                       \n",
       "                 count     sum mean count         sum     mean  \n",
       "segment                                                         \n",
       "D                 1471   48.72 0.03  1471     4124.37     2.80  \n",
       "C                 1470  144.93 0.10  1470    32689.17    22.24  \n",
       "B                 1470  361.24 0.25  1470   203222.90   138.25  \n",
       "A                 1470 2462.19 1.67  1470 81558808.67 55482.18  "
      ]
     },
     "execution_count": 37,
     "metadata": {},
     "output_type": "execute_result"
    }
   ],
   "source": [
    "cltv_c.groupby(\"segment\").agg({\"count\", \"mean\", \"sum\"})"
   ]
  },
  {
   "cell_type": "code",
   "execution_count": 38,
   "id": "43a77a68",
   "metadata": {
    "execution": {
     "iopub.execute_input": "2023-06-09T21:49:37.786088Z",
     "iopub.status.busy": "2023-06-09T21:49:37.785762Z",
     "iopub.status.idle": "2023-06-09T21:49:37.788935Z",
     "shell.execute_reply": "2023-06-09T21:49:37.788368Z"
    },
    "papermill": {
     "duration": 0.019005,
     "end_time": "2023-06-09T21:49:37.790609",
     "exception": false,
     "start_time": "2023-06-09T21:49:37.771604",
     "status": "completed"
    },
    "tags": []
   },
   "outputs": [],
   "source": [
    "# cltv_c.to_csv(\"cltc_c.csv\")"
   ]
  },
  {
   "cell_type": "code",
   "execution_count": 39,
   "id": "aee8e316",
   "metadata": {
    "execution": {
     "iopub.execute_input": "2023-06-09T21:49:37.819401Z",
     "iopub.status.busy": "2023-06-09T21:49:37.819057Z",
     "iopub.status.idle": "2023-06-09T21:49:38.033648Z",
     "shell.execute_reply": "2023-06-09T21:49:38.032887Z"
    },
    "papermill": {
     "duration": 0.231177,
     "end_time": "2023-06-09T21:49:38.035288",
     "exception": false,
     "start_time": "2023-06-09T21:49:37.804111",
     "status": "completed"
    },
    "tags": []
   },
   "outputs": [
    {
     "data": {
      "image/png": "[encoded data removed]",
      "text/plain": [
       "<Figure size 640x480 with 1 Axes>"
      ]
     },
     "metadata": {},
     "output_type": "display_data"
    }
   ],
   "source": [
    "# The relationship between customer_value and customer lifetime value (CLTV)\n",
    "plt.scatter(cltv_c['customer_value'], cltv_c['cltv'])\n",
    "plt.title(\"Customer Value and CLTV Distribution\")\n",
    "plt.xlabel(\"Customer Value\")\n",
    "plt.ylabel(\"CLTV\")\n",
    "plt.ticklabel_format(style='plain', axis='both')\n",
    "\n",
    "# Show the plot\n",
    "plt.show()\n",
    "\n"
   ]
  },
  {
   "cell_type": "code",
   "execution_count": 40,
   "id": "bc90835b",
   "metadata": {
    "execution": {
     "iopub.execute_input": "2023-06-09T21:49:38.064075Z",
     "iopub.status.busy": "2023-06-09T21:49:38.063569Z",
     "iopub.status.idle": "2023-06-09T21:49:38.223073Z",
     "shell.execute_reply": "2023-06-09T21:49:38.222194Z"
    },
    "papermill": {
     "duration": 0.176309,
     "end_time": "2023-06-09T21:49:38.225219",
     "exception": false,
     "start_time": "2023-06-09T21:49:38.048910",
     "status": "completed"
    },
    "tags": []
   },
   "outputs": [
    {
     "data": {
      "image/png": "[encoded data removed]",
      "text/plain": [
       "<Figure size 640x480 with 1 Axes>"
      ]
     },
     "metadata": {},
     "output_type": "display_data"
    }
   ],
   "source": [
    "# Calculating total transactions by segment\n",
    "segment_transaction = cltv_c.groupby('segment')['total_transaction'].sum()\n",
    "\n",
    "plt.bar(segment_transaction.index, segment_transaction.values)\n",
    "plt.title(\"Total Transactions by Segment\")\n",
    "plt.xlabel(\"Segment\")\n",
    "plt.ylabel(\"Total Transactions\")\n",
    "\n",
    "\n",
    "plt.show()\n",
    "\n"
   ]
  },
  {
   "cell_type": "code",
   "execution_count": 41,
   "id": "799c2579",
   "metadata": {
    "execution": {
     "iopub.execute_input": "2023-06-09T21:49:38.254177Z",
     "iopub.status.busy": "2023-06-09T21:49:38.253840Z",
     "iopub.status.idle": "2023-06-09T21:49:38.463422Z",
     "shell.execute_reply": "2023-06-09T21:49:38.462393Z"
    },
    "papermill": {
     "duration": 0.226641,
     "end_time": "2023-06-09T21:49:38.465735",
     "exception": false,
     "start_time": "2023-06-09T21:49:38.239094",
     "status": "completed"
    },
    "tags": []
   },
   "outputs": [
    {
     "data": {
      "image/png": "[encoded data removed]",
      "text/plain": [
       "<Figure size 640x480 with 1 Axes>"
      ]
     },
     "metadata": {},
     "output_type": "display_data"
    }
   ],
   "source": [
    "# Total Unit ve Total Price\n",
    "\n",
    "plt.scatter(cltv_c['total_unit'], cltv_c['total_price'])\n",
    "plt.title(\"Total Unit vs Total Price\")\n",
    "plt.xlabel(\"Total Unit\")\n",
    "plt.ylabel(\"Total Price\")\n",
    "plt.show()\n"
   ]
  },
  {
   "cell_type": "code",
   "execution_count": 42,
   "id": "ef88787d",
   "metadata": {
    "execution": {
     "iopub.execute_input": "2023-06-09T21:49:38.495479Z",
     "iopub.status.busy": "2023-06-09T21:49:38.495124Z",
     "iopub.status.idle": "2023-06-09T21:49:38.689293Z",
     "shell.execute_reply": "2023-06-09T21:49:38.688180Z"
    },
    "papermill": {
     "duration": 0.211305,
     "end_time": "2023-06-09T21:49:38.691375",
     "exception": false,
     "start_time": "2023-06-09T21:49:38.480070",
     "status": "completed"
    },
    "tags": []
   },
   "outputs": [
    {
     "data": {
      "image/png": "[encoded data removed]",
      "text/plain": [
       "<Figure size 640x480 with 1 Axes>"
      ]
     },
     "metadata": {},
     "output_type": "display_data"
    }
   ],
   "source": [
    "# Average Order Value ve CLTV\n",
    "plt.scatter(cltv_c['average_order_value'], cltv_c['cltv'])\n",
    "plt.title(\"Average Order Value vs CLTV\")\n",
    "plt.xlabel(\"Average Order Value\")\n",
    "plt.ylabel(\"CLTV\")\n",
    "plt.show()\n"
   ]
  },
  {
   "cell_type": "code",
   "execution_count": 43,
   "id": "ae9318f8",
   "metadata": {
    "execution": {
     "iopub.execute_input": "2023-06-09T21:49:38.721135Z",
     "iopub.status.busy": "2023-06-09T21:49:38.720814Z",
     "iopub.status.idle": "2023-06-09T21:49:38.936104Z",
     "shell.execute_reply": "2023-06-09T21:49:38.934932Z"
    },
    "papermill": {
     "duration": 0.233092,
     "end_time": "2023-06-09T21:49:38.938628",
     "exception": false,
     "start_time": "2023-06-09T21:49:38.705536",
     "status": "completed"
    },
    "tags": []
   },
   "outputs": [
    {
     "data": {
      "image/png": "[encoded data removed]",
      "text/plain": [
       "<Figure size 640x480 with 1 Axes>"
      ]
     },
     "metadata": {},
     "output_type": "display_data"
    }
   ],
   "source": [
    "# Purchase Frequency ve Customer Value\n",
    "plt.scatter(cltv_c['purchase_frequency'], cltv_c['customer_value'])\n",
    "plt.title(\"Purchase Frequency vs Customer Value\")\n",
    "plt.xlabel(\"Purchase Frequency\")\n",
    "plt.ylabel(\"Customer Value\")\n",
    "plt.show()\n"
   ]
  },
  {
   "cell_type": "code",
   "execution_count": 44,
   "id": "6301028b",
   "metadata": {
    "execution": {
     "iopub.execute_input": "2023-06-09T21:49:38.969154Z",
     "iopub.status.busy": "2023-06-09T21:49:38.968819Z",
     "iopub.status.idle": "2023-06-09T21:49:39.133420Z",
     "shell.execute_reply": "2023-06-09T21:49:39.132039Z"
    },
    "papermill": {
     "duration": 0.182354,
     "end_time": "2023-06-09T21:49:39.135635",
     "exception": false,
     "start_time": "2023-06-09T21:49:38.953281",
     "status": "completed"
    },
    "tags": []
   },
   "outputs": [
    {
     "data": {
      "image/png": "[encoded data removed]",
      "text/plain": [
       "<Figure size 640x480 with 1 Axes>"
      ]
     },
     "metadata": {},
     "output_type": "display_data"
    }
   ],
   "source": [
    "# Profit Margin ve Segment\n",
    "profit_margin_segment = cltv_c.groupby('segment')['profit_margin'].mean()\n",
    "\n",
    "plt.bar(profit_margin_segment.index, profit_margin_segment.values)\n",
    "plt.title(\"Average Profit Margin by Segment\")\n",
    "plt.xlabel(\"Segment\")\n",
    "plt.ylabel(\"Profit Margin\")\n",
    "plt.show()\n",
    "\n"
   ]
  }
 ],
 "metadata": {
  "kernelspec": {
   "display_name": "Python 3",
   "language": "python",
   "name": "python3"
  },
  "language_info": {
   "codemirror_mode": {
    "name": "ipython",
    "version": 3
   },
   "file_extension": ".py",
   "mimetype": "text/x-python",
   "name": "python",
   "nbconvert_exporter": "python",
   "pygments_lexer": "ipython3",
   "version": "3.10.10"
  },
  "papermill": {
   "default_parameters": {},
   "duration": 136.020929,
   "end_time": "2023-06-09T21:49:40.172034",
   "environment_variables": {},
   "exception": null,
   "input_path": "__notebook__.ipynb",
   "output_path": "__notebook__.ipynb",
   "parameters": {},
   "start_time": "2023-06-09T21:47:24.151105",
   "version": "2.4.0"
  }
 },
 "nbformat": 4,
 "nbformat_minor": 5
}
